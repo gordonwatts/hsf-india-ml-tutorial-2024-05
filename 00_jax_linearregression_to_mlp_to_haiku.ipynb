{
  "cells": [
    {
      "cell_type": "code",
      "source": [
        "!pip install matplotlib tqdm jax"
      ],
      "metadata": {
        "colab": {
          "base_uri": "https://localhost:8080/"
        },
        "id": "fcGaUUeLyWk-",
        "outputId": "124c988c-ba13-4b90-c070-a54311f6518e"
      },
      "id": "fcGaUUeLyWk-",
      "execution_count": 1,
      "outputs": [
        {
          "output_type": "stream",
          "name": "stdout",
          "text": [
            "Requirement already satisfied: matplotlib in /usr/local/lib/python3.10/dist-packages (3.7.1)\n",
            "Requirement already satisfied: tqdm in /usr/local/lib/python3.10/dist-packages (4.66.4)\n",
            "Requirement already satisfied: jax in /usr/local/lib/python3.10/dist-packages (0.4.26)\n",
            "Requirement already satisfied: contourpy>=1.0.1 in /usr/local/lib/python3.10/dist-packages (from matplotlib) (1.2.1)\n",
            "Requirement already satisfied: cycler>=0.10 in /usr/local/lib/python3.10/dist-packages (from matplotlib) (0.12.1)\n",
            "Requirement already satisfied: fonttools>=4.22.0 in /usr/local/lib/python3.10/dist-packages (from matplotlib) (4.51.0)\n",
            "Requirement already satisfied: kiwisolver>=1.0.1 in /usr/local/lib/python3.10/dist-packages (from matplotlib) (1.4.5)\n",
            "Requirement already satisfied: numpy>=1.20 in /usr/local/lib/python3.10/dist-packages (from matplotlib) (1.25.2)\n",
            "Requirement already satisfied: packaging>=20.0 in /usr/local/lib/python3.10/dist-packages (from matplotlib) (24.0)\n",
            "Requirement already satisfied: pillow>=6.2.0 in /usr/local/lib/python3.10/dist-packages (from matplotlib) (9.4.0)\n",
            "Requirement already satisfied: pyparsing>=2.3.1 in /usr/local/lib/python3.10/dist-packages (from matplotlib) (3.1.2)\n",
            "Requirement already satisfied: python-dateutil>=2.7 in /usr/local/lib/python3.10/dist-packages (from matplotlib) (2.8.2)\n",
            "Requirement already satisfied: ml-dtypes>=0.2.0 in /usr/local/lib/python3.10/dist-packages (from jax) (0.2.0)\n",
            "Requirement already satisfied: opt-einsum in /usr/local/lib/python3.10/dist-packages (from jax) (3.3.0)\n",
            "Requirement already satisfied: scipy>=1.9 in /usr/local/lib/python3.10/dist-packages (from jax) (1.11.4)\n",
            "Requirement already satisfied: six>=1.5 in /usr/local/lib/python3.10/dist-packages (from python-dateutil>=2.7->matplotlib) (1.16.0)\n"
          ]
        }
      ]
    },
    {
      "cell_type": "markdown",
      "id": "daf9146a",
      "metadata": {
        "id": "daf9146a"
      },
      "source": [
        "### Tutorial: From Linear Regression to Multilayer Perceptron\n",
        "\n",
        "*Prof Christopher Tunnell, 20-May-2024, HSF-India, U. Delhi*\n",
        "\n",
        "This tutorial will guide you through the progression from a simple linear regression model, using matrix multiplication, to a more complex model—a Multilayer Perceptron (MLP). By the end, you'll understand how both models are implemented and how to implement a neural network.  We will first implement a neural network 'by hand' before using the Haiku library for abstraction.\n",
        "\n",
        "Please note that there are nearly infinite tutorials online that teach this material in a range of ways.  You are encouraged to search for your own websites, papers, books, or YouTube videos that match your own style of learning.\n",
        "\n",
        "We will be using the following data that has a slight nonlinearity to show why the standard linear statistics you learn in your classes is insufficient.\n",
        "\n",
        "**Data generation:** First we must generate some data to use later on."
      ]
    },
    {
      "cell_type": "code",
      "execution_count": 2,
      "id": "c9dec596",
      "metadata": {
        "colab": {
          "base_uri": "https://localhost:8080/",
          "height": 449
        },
        "id": "c9dec596",
        "outputId": "bc627a3d-39a6-44be-983a-56ec045604a8"
      },
      "outputs": [
        {
          "output_type": "display_data",
          "data": {
            "text/plain": [
              "<Figure size 640x480 with 1 Axes>"
            ],
            "image/png": "[encoded data removed]"
          },
          "metadata": {}
        }
      ],
      "source": [
        "import matplotlib.pyplot as plt\n",
        "from tqdm.notebook import tqdm\n",
        "import jax.numpy as jnp\n",
        "from jax import random, grad\n",
        "\n",
        "# Generate synthetic data\n",
        "key = random.PRNGKey(0)\n",
        "x = jnp.linspace(-1.5, 1.5, 100).reshape(-1, 1)  # 100 data points, 1 feature\n",
        "y = 3 * x + 2 # Linear relation\n",
        "y += random.normal(key, (100, 1)) * 0.1  # Add noise\n",
        "y +=  x**2 # Add slight nonlinearity\n",
        "\n",
        "# Plotting the results\n",
        "plt.scatter(x, y, color='red', alpha=0.5, label='Data')\n",
        "plt.legend()\n",
        "plt.xlabel('Input')\n",
        "plt.ylabel('Output')\n",
        "plt.show()"
      ]
    },
    {
      "cell_type": "markdown",
      "id": "ed9c0528",
      "metadata": {
        "id": "ed9c0528"
      },
      "source": [
        "\n",
        "\n",
        "#### Part 1: Understanding Linear Regression\n",
        "\n",
        "**Linear Regression Basics:**\n",
        "Linear regression is a statistical method that models the relationship between a scalar dependent variable $ \\vec{y} $ and one or more independent variables (or features) denoted $ \\vec{x} $. The case of one independent variable is called simple linear regression; for more than one, the process is called multiple linear regression.\n",
        "\n",
        "**Mathematical Model:**\n",
        "The equation for a linear regression is:\n",
        "$$ \\vec{y} = \\mathbf{W} \\vec{x} + b $$\n",
        "where:\n",
        "- $ \\mathbf{W} $ represents the weights matrix.\n",
        "- $ \\vec{x} $ is the vector of input features.\n",
        "- $ b $ is the bias.\n",
        "\n",
        "**Matrix Multiplication:**\n",
        "The heart of linear regression is the matrix multiplication between the weights $ \\mathbf{W} $ and the features $ \\vec{x} $. This operation scales the input data by the weights to estimate the output."
      ]
    },
    {
      "cell_type": "markdown",
      "source": [
        "##### Example of Linear Regression in JAX:"
      ],
      "metadata": {
        "id": "5YVMZn6Xx1Gn"
      },
      "id": "5YVMZn6Xx1Gn"
    },
    {
      "cell_type": "code",
      "execution_count": 3,
      "id": "fe292291",
      "metadata": {
        "colab": {
          "base_uri": "https://localhost:8080/",
          "height": 67,
          "referenced_widgets": [
            "aafe05d9f49940258b5bcc5cb6dfb97d",
            "eeaf16105ec2447c9adaa582f484e70f",
            "1f1b62289c3c4476bf155a4af48cee2c",
            "8571f03bc93c4f66b30e887ee3fa5035",
            "71da0e217d9040db8d2db6998d664458",
            "024ad31f46b64f589bf43d8d5f17ce9d",
            "7741224184704bc88a7e8d4244b0ba25",
            "bc5981affe3246b7a356ef3fe1613f67",
            "a14241893c854f37bc6409c75faf0e4e",
            "ddf70b6a44ee4cdf888b616e697f8748",
            "cdceea53780544e8a6bd0f0d4cff745d"
          ]
        },
        "id": "fe292291",
        "outputId": "65658fc7-e4bf-4d91-a945-a8d40a7cb636"
      },
      "outputs": [
        {
          "output_type": "display_data",
          "data": {
            "text/plain": [
              "  0%|          | 0/100 [00:00<?, ?it/s]"
            ],
            "application/vnd.jupyter.widget-view+json": {
              "version_major": 2,
              "version_minor": 0,
              "model_id": "aafe05d9f49940258b5bcc5cb6dfb97d"
            }
          },
          "metadata": {}
        },
        {
          "output_type": "stream",
          "name": "stdout",
          "text": [
            "Trained weights and bias: [[3.010272]] [2.773364]\n"
          ]
        }
      ],
      "source": [
        "# Initialize parameters\n",
        "params = {'weights': jnp.array([[1.0]]), 'bias': jnp.array([0.0])}\n",
        "\n",
        "# Prediction function\n",
        "def predict(params, x):\n",
        "    return jnp.dot(x, params['weights']) + params['bias']\n",
        "\n",
        "# Loss function (Mean Squared Error)\n",
        "def loss(params, x, y, predictor=predict):\n",
        "    return jnp.mean((predictor(params, x) - y) ** 2)\n",
        "\n",
        "# Gradient function\n",
        "loss_grad = grad(loss)\n",
        "\n",
        "# Update function\n",
        "def update(params, x, y, learning_rate=0.1):\n",
        "    gradients = loss_grad(params, x, y)\n",
        "    params['weights'] -= learning_rate * gradients['weights']\n",
        "    params['bias'] -= learning_rate * gradients['bias']\n",
        "    return params\n",
        "\n",
        "# Training loop\n",
        "for _ in tqdm(range(100)):\n",
        "    params = update(params, x, y)\n",
        "\n",
        "print(\"Trained weights and bias:\", params['weights'], params['bias'])\n",
        "y_linear_regression = predict(params, x)"
      ]
    },
    {
      "cell_type": "code",
      "execution_count": 4,
      "id": "a272ca71",
      "metadata": {
        "colab": {
          "base_uri": "https://localhost:8080/",
          "height": 449
        },
        "id": "a272ca71",
        "outputId": "de84aff7-6e0b-42dc-fa34-09a406b1d5f6"
      },
      "outputs": [
        {
          "output_type": "display_data",
          "data": {
            "text/plain": [
              "<Figure size 640x480 with 1 Axes>"
            ],
            "image/png": "[encoded data removed]"
          },
          "metadata": {}
        }
      ],
      "source": [
        "# Plotting the results\n",
        "plt.scatter(x, y, color='red', alpha=0.5, label='Data')\n",
        "plt.plot(x, y_linear_regression, color='blue', label='Linear regression')\n",
        "plt.legend()\n",
        "plt.xlabel('Input')\n",
        "plt.ylabel('Output')\n",
        "plt.show()"
      ]
    },
    {
      "cell_type": "markdown",
      "id": "eb3e1b91",
      "metadata": {
        "id": "eb3e1b91"
      },
      "source": [
        "Linear regressions can model the linear component but (unsurprisingly) are unable to model the nonlinear second-order $x^2$ corrections."
      ]
    },
    {
      "cell_type": "markdown",
      "id": "6d47de81",
      "metadata": {
        "id": "6d47de81"
      },
      "source": [
        "\n",
        "#### Part 2: Transition to a simple Multilayer Perceptron with one hidden layer\n",
        "\n",
        "**Introduction to MLP:**\n",
        "An MLP is a class of feedforward artificial neural network (ANN). Unlike linear regression that directly maps input to output, MLPs have one or more hidden layers of neurons between inputs and outputs. Each neuron in the hidden layer transforms the inputs via a linear summation followed by a non-linear activation function.\n",
        "\n",
        "Sure, let's detail the mathematical notation for a single neural network layer using the notation from your notebook.\n",
        "\n",
        "### Neural Network Layer Mathematical Notation\n",
        "\n",
        "A neural network layer can be described by the following components:\n",
        "\n",
        "- **Input Vector ( $\\vec{x}$ )**: The input to the layer, which is a vector of size $n$.\n",
        "- **Weight Matrix ( $\\mathbf{W}$ )**: The weights associated with the connections between the input and the neurons in the layer, which is a matrix of size $m \\times n$.\n",
        "- **Bias Vector ($\\vec{b}$)**: The biases for the neurons in the layer, which is a vector of size \\(m\\).\n",
        "- **Activation Function ($\\sigma$)**: A non-linear function applied to the weighted sum of the inputs.\n",
        "\n",
        "For a given layer, the output vector $\\vec{h}$ can be computed as follows:\n",
        "\n",
        "$$ \\vec{h} = \\sigma(\\mathbf{W} \\vec{x} + \\vec{b}) $$\n",
        "\n",
        "Here’s a step-by-step breakdown of this formula:\n",
        "\n",
        "1. **Linear Transformation**:\n",
        "   $ \\mathbf{z} = \\mathbf{W} \\vec{x} + \\vec{b} $\n",
        "   - $\\mathbf{W}$: Weight matrix of size $m \\times n$\n",
        "   - $\\vec{x}$: Input vector of size $n$\n",
        "   - $\\vec{b}$: Bias vector of size $m$\n",
        "   - $\\mathbf{z}$: Linear transformation result (pre-activation) of size $m$\n",
        "\n",
        "2. **Non-linear Activation**:\n",
        "   $ \\vec{h} = \\sigma(\\mathbf{z}) $\n",
        "   - $\\sigma$: Activation function (e.g., ReLU, sigmoid, tanh)\n",
        "   - $\\vec{h}$: Output vector (post-activation) of size $m$\n",
        "\n",
        "Thus, combining the two steps, we get the full transformation for a single layer in the neural network:\n",
        "\n",
        "$$ \\vec{h} = \\sigma(\\mathbf{W} \\vec{x} + \\vec{b}) $$\n",
        "\n",
        "This notation can be generalized to multiple layers by iterating the transformation for each subsequent layer, where the output of the previous layer becomes the input for the next layer.\n",
        "\n",
        "**From Linear to MLP:**\n",
        "To transform our linear model into an MLP, we add layers with non-linear activation functions. Each layer’s output becomes the subsequent layer’s input.\n",
        "\n",
        "##### Adjusting to two-layer MLP in JAX:\n",
        "\n"
      ]
    },
    {
      "cell_type": "code",
      "execution_count": 5,
      "id": "17340099",
      "metadata": {
        "colab": {
          "base_uri": "https://localhost:8080/",
          "height": 388
        },
        "id": "17340099",
        "outputId": "3aaefb03-b7bb-4735-8cf9-fb49073c2ad6"
      },
      "outputs": [
        {
          "output_type": "display_data",
          "data": {
            "text/plain": [
              "<Figure size 800x400 with 1 Axes>"
            ],
            "image/png": "[encoded data removed]"
          },
          "metadata": {}
        }
      ],
      "source": [
        "# Additional imports\n",
        "from jax.nn import relu\n",
        "\n",
        "# Visualize ReLU\n",
        "plt.figure(figsize=(8, 4))\n",
        "plt.plot(x, relu(x))\n",
        "plt.xlabel('x')\n",
        "_= plt.ylabel('$\\sigma$ = ReLU(x)')"
      ]
    },
    {
      "cell_type": "code",
      "execution_count": 6,
      "id": "d8cbc3fc",
      "metadata": {
        "colab": {
          "base_uri": "https://localhost:8080/",
          "height": 533,
          "referenced_widgets": [
            "2f1bae564b1047d399182b6f65d109d0",
            "87ffe2092e2e4ece808114aaed3f5411",
            "c77a926829444b5597322de36a2beba0",
            "bcff1f70852e4616ab97bc7b673197eb",
            "22b61809ac9347baa81d5c49351f7859",
            "aa70b66999214a3785b0db4b4024d12e",
            "687ee01d55d64a2aac71cafc6a3200b5",
            "a927fb0096904195b36b8ecd8445915c",
            "3d86106766f04b88a16ddc1ebfe49104",
            "523c37ef25f24fc2a90c48f36520ff4a",
            "38fb4ee52aa542a2bb111f56c968a1a8"
          ]
        },
        "id": "d8cbc3fc",
        "outputId": "495a9b54-f576-4a3c-ec1f-568846400fad"
      },
      "outputs": [
        {
          "output_type": "display_data",
          "data": {
            "text/plain": [
              "  0%|          | 0/1000 [00:00<?, ?it/s]"
            ],
            "application/vnd.jupyter.widget-view+json": {
              "version_major": 2,
              "version_minor": 0,
              "model_id": "2f1bae564b1047d399182b6f65d109d0"
            }
          },
          "metadata": {}
        },
        {
          "output_type": "stream",
          "name": "stdout",
          "text": [
            "Trained MLP weights and biases: {'w1': Array([[ 0.48833865, -0.4568658 , -0.28026062, -0.01502904,  1.1164852 ,\n",
            "        -0.88538957, -0.36989397, -0.14786364,  0.154538  ,  0.81861055,\n",
            "        -0.48442772,  0.6535022 , -0.2396753 , -0.24810314,  0.23300497,\n",
            "         0.48855287, -0.0411987 ,  0.36853674,  1.2302327 , -0.27445742]],      dtype=float32), 'b1': Array([ 0.05851207, -0.15179288, -0.09311654, -0.00499338,  0.13377638,\n",
            "       -0.29417002, -0.12289695, -0.04912758,  0.01851661,  0.09808499,\n",
            "       -0.16095042,  0.07830225, -0.07963183, -0.08243208,  0.02791843,\n",
            "        0.05853784, -0.0136882 ,  0.04415768,  0.1474055 , -0.09118829],      dtype=float32), 'w2': Array([[ 0.47075063],\n",
            "       [-0.46670285],\n",
            "       [-0.28629398],\n",
            "       [-0.01535266],\n",
            "       [ 1.0762739 ],\n",
            "       [-0.9044544 ],\n",
            "       [-0.37785834],\n",
            "       [-0.15104727],\n",
            "       [ 0.14897218],\n",
            "       [ 0.78912723],\n",
            "       [-0.49485797],\n",
            "       [ 0.6299671 ],\n",
            "       [-0.24483638],\n",
            "       [-0.2534451 ],\n",
            "       [ 0.22461335],\n",
            "       [ 0.47095725],\n",
            "       [-0.04208573],\n",
            "       [ 0.35526377],\n",
            "       [ 1.1859254 ],\n",
            "       [-0.28036723]], dtype=float32), 'b2': Array([1.2333579], dtype=float32)}\n"
          ]
        }
      ],
      "source": [
        "# Initialize more complex parameters\n",
        "layer_size = 20\n",
        "number_epochs = 1000\n",
        "simple_mlp_params = {\n",
        "    'w1': random.normal(key, (1, layer_size)),\n",
        "    'b1': jnp.zeros(layer_size),\n",
        "    'w2': random.normal(key, (layer_size, 1)),\n",
        "    'b2': jnp.zeros(1)\n",
        "}\n",
        "\n",
        "# MLP prediction function\n",
        "def simple_mlp_predict(params, x):\n",
        "    hidden = relu(jnp.dot(x, params['w1']) + params['b1'])  # ReLU activation function\n",
        "    return jnp.dot(hidden, params['w2']) + params['b2']\n",
        "\n",
        "def simple_mlp_loss(*args):\n",
        "    return loss(*args, predictor=simple_mlp_predict)\n",
        "\n",
        "# Update function for MLP\n",
        "def simple_mlp_update(params, x, y, learning_rate=0.01):\n",
        "    gradients = grad(simple_mlp_loss)(params, x, y)\n",
        "    return {k: v - learning_rate * gradients[k] for k, v in params.items()}\n",
        "\n",
        "# Training loop for MLP\n",
        "for _ in tqdm(range(number_epochs)):\n",
        "    simple_mlp_params = simple_mlp_update(simple_mlp_params,\n",
        "                                          x, y)\n",
        "\n",
        "print(\"Trained MLP weights and biases:\", simple_mlp_params)\n",
        "y_simple_mlp = simple_mlp_predict(simple_mlp_params, x)"
      ]
    },
    {
      "cell_type": "code",
      "execution_count": 7,
      "id": "4e6408bd",
      "metadata": {
        "colab": {
          "base_uri": "https://localhost:8080/",
          "height": 449
        },
        "id": "4e6408bd",
        "outputId": "d26eb7ed-5a10-4f54-eeba-68910a08ea3f"
      },
      "outputs": [
        {
          "output_type": "display_data",
          "data": {
            "text/plain": [
              "<Figure size 640x480 with 1 Axes>"
            ],
            "image/png": "[encoded data removed]"
          },
          "metadata": {}
        }
      ],
      "source": [
        "# Plotting the results\n",
        "plt.scatter(x, y, color='red', alpha=0.5, label='Data')\n",
        "plt.plot(x, y_linear_regression, color='blue', label='Linear regression')\n",
        "plt.plot(x, y_simple_mlp, color='green', label='MLP (1 hidden)')\n",
        "plt.legend()\n",
        "plt.xlabel('Input')\n",
        "plt.ylabel('Output')\n",
        "plt.show()"
      ]
    },
    {
      "cell_type": "markdown",
      "id": "542150cd",
      "metadata": {
        "id": "542150cd"
      },
      "source": [
        "### Part 3: Haiku-Library Neural Network with 3 Hidden Layers\n",
        "\n",
        "In this section, we will implement a neural network using the Haiku library. This network will have three hidden layers, providing more capacity to model complex relationships in the data.\n",
        "\n",
        "**Haiku Library:**\n",
        "Haiku is a simple neural network library for JAX that makes it easy to build and experiment with neural network architectures.\n",
        "\n",
        "**Model Architecture:**\n",
        "Our model will consist of three hidden layers, each followed by a ReLU activation function, and an output layer.\n",
        "\n"
      ]
    },
    {
      "cell_type": "code",
      "execution_count": 8,
      "id": "73e9b8cf",
      "metadata": {
        "colab": {
          "base_uri": "https://localhost:8080/",
          "height": 49,
          "referenced_widgets": [
            "c01f08da208e4d6f86a4f58a718b8b38",
            "a26d934127d548e7b4b05ac815e13125",
            "7924d583e06e43a8baba273d76cfaf21",
            "3d4a8f3467874d8cb25139de0f7be24e",
            "7c500abee9704c30870501c159915cb7",
            "21865f51460c45b58fc62cd28dffb7b0",
            "ac906259b3734f47818a4d54cd921081",
            "97d2587be7b34a259e787714ab9120c9",
            "45a446ddc2574d8e989563b14efb225c",
            "c52c13f2ec25412fbe6cd4a774867952",
            "bae050adfc6446feac2062d46e991205"
          ]
        },
        "id": "73e9b8cf",
        "outputId": "d8bd788b-95ab-429a-dbda-60e595cbc43d"
      },
      "outputs": [
        {
          "output_type": "display_data",
          "data": {
            "text/plain": [
              "  0%|          | 0/1000 [00:00<?, ?it/s]"
            ],
            "application/vnd.jupyter.widget-view+json": {
              "version_major": 2,
              "version_minor": 0,
              "model_id": "c01f08da208e4d6f86a4f58a718b8b38"
            }
          },
          "metadata": {}
        }
      ],
      "source": [
        "import haiku as hk\n",
        "import optax\n",
        "import jax.numpy as jnp\n",
        "import jax\n",
        "\n",
        "# Define the neural network with three hidden layers\n",
        "def mlp_model(x):\n",
        "    mlp = hk.Sequential([\n",
        "        hk.Linear(128), jax.nn.relu,\n",
        "        hk.Linear(64), jax.nn.relu,\n",
        "        hk.Linear(32), jax.nn.relu,\n",
        "        hk.Linear(1)\n",
        "    ])\n",
        "    return mlp(x)\n",
        "\n",
        "# Transform the model for Haiku\n",
        "mlp_model_transformed = hk.transform(mlp_model)\n",
        "\n",
        "# Initialize the model parameters\n",
        "rng = jax.random.PRNGKey(42)\n",
        "params = mlp_model_transformed.init(rng, x)\n",
        "\n",
        "# Define the forward pass function\n",
        "def forward(params, x):\n",
        "    return mlp_model_transformed.apply(params, rng, x)\n",
        "\n",
        "# Define the loss function (mean squared error)\n",
        "def loss_fn(params, x, y):\n",
        "    preds = forward(params, x)\n",
        "    return jnp.mean((preds - y) ** 2)\n",
        "\n",
        "# Define the optimizer\n",
        "optimizer = optax.adam(learning_rate=0.001)\n",
        "\n",
        "# Initialize the optimizer state\n",
        "opt_state = optimizer.init(params)\n",
        "\n",
        "# Training step function\n",
        "@jax.jit\n",
        "def train_step(params, opt_state, x, y):\n",
        "    grads = jax.grad(loss_fn)(params, x, y)\n",
        "    updates, opt_state = optimizer.update(grads, opt_state)\n",
        "    new_params = optax.apply_updates(params, updates)\n",
        "    return new_params, opt_state\n",
        "\n",
        "# Training loop\n",
        "num_epochs = 1000\n",
        "for epoch in tqdm(range(num_epochs)):\n",
        "    params, opt_state = train_step(params, opt_state, x, y)\n",
        "\n"
      ]
    },
    {
      "cell_type": "markdown",
      "id": "0027e543",
      "metadata": {
        "id": "0027e543"
      },
      "source": [
        "#### Comparison Plot\n",
        "Let's compare the performance of the Haiku-based neural network with the previous models.\n"
      ]
    },
    {
      "cell_type": "code",
      "execution_count": 9,
      "id": "a06490ea",
      "metadata": {
        "colab": {
          "base_uri": "https://localhost:8080/",
          "height": 449
        },
        "id": "a06490ea",
        "outputId": "b7719747-0962-4374-9bfc-64b168392647"
      },
      "outputs": [
        {
          "output_type": "display_data",
          "data": {
            "text/plain": [
              "<Figure size 640x480 with 1 Axes>"
            ],
            "image/png": "[encoded data removed]"
          },
          "metadata": {}
        }
      ],
      "source": [
        "import matplotlib.pyplot as plt\n",
        "\n",
        "# Predict using the trained Haiku model\n",
        "y_haiku = forward(params, x)\n",
        "\n",
        "# Plotting the results\n",
        "plt.scatter(x, y, color='red', alpha=0.5, label='Data')\n",
        "plt.plot(x, y_linear_regression, color='blue', label='Linear regression')\n",
        "plt.plot(x, y_simple_mlp, color='green', label='MLP (1 hidden)')\n",
        "plt.plot(x, y_haiku, color='purple', label='MLP (3 hidden) w/ Haiku')\n",
        "plt.xlabel('Input')\n",
        "plt.ylabel('Output')\n",
        "plt.legend()\n",
        "plt.show()"
      ]
    },
    {
      "cell_type": "code",
      "source": [
        "#### Question for bonus points\n",
        "\n",
        "Why does 3 hidden layers results in a model that predicts every data point so well?  Please lookup the term 'overfitting' where 'test train splits' are the solution.  We will discuss this in another tutorial."
      ],
      "metadata": {
        "colab": {
          "base_uri": "https://localhost:8080/",
          "height": 126
        },
        "id": "dmM9COt9oudB",
        "outputId": "3cf21180-57a0-402c-ab55-295345f717ae"
      },
      "id": "dmM9COt9oudB",
      "execution_count": 10,
      "outputs": [
        {
          "output_type": "error",
          "ename": "SyntaxError",
          "evalue": "invalid syntax (<ipython-input-10-16c97b95cb21>, line 3)",
          "traceback": [
            "\u001b[0;36m  File \u001b[0;32m\"<ipython-input-10-16c97b95cb21>\"\u001b[0;36m, line \u001b[0;32m3\u001b[0m\n\u001b[0;31m    Why does 3 hidden layers results in a model that predicts every data point so well?  Please lookup the term 'overfitting' where 'test train splits' are the solution.  We will discuss this in another tutorial.\u001b[0m\n\u001b[0m        ^\u001b[0m\n\u001b[0;31mSyntaxError\u001b[0m\u001b[0;31m:\u001b[0m invalid syntax\n"
          ]
        }
      ]
    },
    {
      "cell_type": "code",
      "source": [],
      "metadata": {
        "id": "fwBrq2wj0tmc"
      },
      "id": "fwBrq2wj0tmc",
      "execution_count": null,
      "outputs": []
    }
  ],
  "metadata": {
    "colab": {
      "provenance": []
    },
    "language_info": {
      "name": "python"
    },
    "kernelspec": {
      "name": "python3",
      "display_name": "Python 3"
    },
    "widgets": {
      "application/vnd.jupyter.widget-state+json": {
        "aafe05d9f49940258b5bcc5cb6dfb97d": {
          "model_module": "@jupyter-widgets/controls",
          "model_name": "HBoxModel",
          "model_module_version": "1.5.0",
          "state": {
            "_dom_classes": [],
            "_model_module": "@jupyter-widgets/controls",
            "_model_module_version": "1.5.0",
            "_model_name": "HBoxModel",
            "_view_count": null,
            "_view_module": "@jupyter-widgets/controls",
            "_view_module_version": "1.5.0",
            "_view_name": "HBoxView",
            "box_style": "",
            "children": [
              "IPY_MODEL_eeaf16105ec2447c9adaa582f484e70f",
              "IPY_MODEL_1f1b62289c3c4476bf155a4af48cee2c",
              "IPY_MODEL_8571f03bc93c4f66b30e887ee3fa5035"
            ],
            "layout": "IPY_MODEL_71da0e217d9040db8d2db6998d664458"
          }
        },
        "eeaf16105ec2447c9adaa582f484e70f": {
          "model_module": "@jupyter-widgets/controls",
          "model_name": "HTMLModel",
          "model_module_version": "1.5.0",
          "state": {
            "_dom_classes": [],
            "_model_module": "@jupyter-widgets/controls",
            "_model_module_version": "1.5.0",
            "_model_name": "HTMLModel",
            "_view_count": null,
            "_view_module": "@jupyter-widgets/controls",
            "_view_module_version": "1.5.0",
            "_view_name": "HTMLView",
            "description": "",
            "description_tooltip": null,
            "layout": "IPY_MODEL_024ad31f46b64f589bf43d8d5f17ce9d",
            "placeholder": "​",
            "style": "IPY_MODEL_7741224184704bc88a7e8d4244b0ba25",
            "value": "100%"
          }
        },
        "1f1b62289c3c4476bf155a4af48cee2c": {
          "model_module": "@jupyter-widgets/controls",
          "model_name": "FloatProgressModel",
          "model_module_version": "1.5.0",
          "state": {
            "_dom_classes": [],
            "_model_module": "@jupyter-widgets/controls",
            "_model_module_version": "1.5.0",
            "_model_name": "FloatProgressModel",
            "_view_count": null,
            "_view_module": "@jupyter-widgets/controls",
            "_view_module_version": "1.5.0",
            "_view_name": "ProgressView",
            "bar_style": "success",
            "description": "",
            "description_tooltip": null,
            "layout": "IPY_MODEL_bc5981affe3246b7a356ef3fe1613f67",
            "max": 100,
            "min": 0,
            "orientation": "horizontal",
            "style": "IPY_MODEL_a14241893c854f37bc6409c75faf0e4e",
            "value": 100
          }
        },
        "8571f03bc93c4f66b30e887ee3fa5035": {
          "model_module": "@jupyter-widgets/controls",
          "model_name": "HTMLModel",
          "model_module_version": "1.5.0",
          "state": {
            "_dom_classes": [],
            "_model_module": "@jupyter-widgets/controls",
            "_model_module_version": "1.5.0",
            "_model_name": "HTMLModel",
            "_view_count": null,
            "_view_module": "@jupyter-widgets/controls",
            "_view_module_version": "1.5.0",
            "_view_name": "HTMLView",
            "description": "",
            "description_tooltip": null,
            "layout": "IPY_MODEL_ddf70b6a44ee4cdf888b616e697f8748",
            "placeholder": "​",
            "style": "IPY_MODEL_cdceea53780544e8a6bd0f0d4cff745d",
            "value": " 100/100 [00:01&lt;00:00, 133.69it/s]"
          }
        },
        "71da0e217d9040db8d2db6998d664458": {
          "model_module": "@jupyter-widgets/base",
          "model_name": "LayoutModel",
          "model_module_version": "1.2.0",
          "state": {
            "_model_module": "@jupyter-widgets/base",
            "_model_module_version": "1.2.0",
            "_model_name": "LayoutModel",
            "_view_count": null,
            "_view_module": "@jupyter-widgets/base",
            "_view_module_version": "1.2.0",
            "_view_name": "LayoutView",
            "align_content": null,
            "align_items": null,
            "align_self": null,
            "border": null,
            "bottom": null,
            "display": null,
            "flex": null,
            "flex_flow": null,
            "grid_area": null,
            "grid_auto_columns": null,
            "grid_auto_flow": null,
            "grid_auto_rows": null,
            "grid_column": null,
            "grid_gap": null,
            "grid_row": null,
            "grid_template_areas": null,
            "grid_template_columns": null,
            "grid_template_rows": null,
            "height": null,
            "justify_content": null,
            "justify_items": null,
            "left": null,
            "margin": null,
            "max_height": null,
            "max_width": null,
            "min_height": null,
            "min_width": null,
            "object_fit": null,
            "object_position": null,
            "order": null,
            "overflow": null,
            "overflow_x": null,
            "overflow_y": null,
            "padding": null,
            "right": null,
            "top": null,
            "visibility": null,
            "width": null
          }
        },
        "024ad31f46b64f589bf43d8d5f17ce9d": {
          "model_module": "@jupyter-widgets/base",
          "model_name": "LayoutModel",
          "model_module_version": "1.2.0",
          "state": {
            "_model_module": "@jupyter-widgets/base",
            "_model_module_version": "1.2.0",
            "_model_name": "LayoutModel",
            "_view_count": null,
            "_view_module": "@jupyter-widgets/base",
            "_view_module_version": "1.2.0",
            "_view_name": "LayoutView",
            "align_content": null,
            "align_items": null,
            "align_self": null,
            "border": null,
            "bottom": null,
            "display": null,
            "flex": null,
            "flex_flow": null,
            "grid_area": null,
            "grid_auto_columns": null,
            "grid_auto_flow": null,
            "grid_auto_rows": null,
            "grid_column": null,
            "grid_gap": null,
            "grid_row": null,
            "grid_template_areas": null,
            "grid_template_columns": null,
            "grid_template_rows": null,
            "height": null,
            "justify_content": null,
            "justify_items": null,
            "left": null,
            "margin": null,
            "max_height": null,
            "max_width": null,
            "min_height": null,
            "min_width": null,
            "object_fit": null,
            "object_position": null,
            "order": null,
            "overflow": null,
            "overflow_x": null,
            "overflow_y": null,
            "padding": null,
            "right": null,
            "top": null,
            "visibility": null,
            "width": null
          }
        },
        "7741224184704bc88a7e8d4244b0ba25": {
          "model_module": "@jupyter-widgets/controls",
          "model_name": "DescriptionStyleModel",
          "model_module_version": "1.5.0",
          "state": {
            "_model_module": "@jupyter-widgets/controls",
            "_model_module_version": "1.5.0",
            "_model_name": "DescriptionStyleModel",
            "_view_count": null,
            "_view_module": "@jupyter-widgets/base",
            "_view_module_version": "1.2.0",
            "_view_name": "StyleView",
            "description_width": ""
          }
        },
        "bc5981affe3246b7a356ef3fe1613f67": {
          "model_module": "@jupyter-widgets/base",
          "model_name": "LayoutModel",
          "model_module_version": "1.2.0",
          "state": {
            "_model_module": "@jupyter-widgets/base",
            "_model_module_version": "1.2.0",
            "_model_name": "LayoutModel",
            "_view_count": null,
            "_view_module": "@jupyter-widgets/base",
            "_view_module_version": "1.2.0",
            "_view_name": "LayoutView",
            "align_content": null,
            "align_items": null,
            "align_self": null,
            "border": null,
            "bottom": null,
            "display": null,
            "flex": null,
            "flex_flow": null,
            "grid_area": null,
            "grid_auto_columns": null,
            "grid_auto_flow": null,
            "grid_auto_rows": null,
            "grid_column": null,
            "grid_gap": null,
            "grid_row": null,
            "grid_template_areas": null,
            "grid_template_columns": null,
            "grid_template_rows": null,
            "height": null,
            "justify_content": null,
            "justify_items": null,
            "left": null,
            "margin": null,
            "max_height": null,
            "max_width": null,
            "min_height": null,
            "min_width": null,
            "object_fit": null,
            "object_position": null,
            "order": null,
            "overflow": null,
            "overflow_x": null,
            "overflow_y": null,
            "padding": null,
            "right": null,
            "top": null,
            "visibility": null,
            "width": null
          }
        },
        "a14241893c854f37bc6409c75faf0e4e": {
          "model_module": "@jupyter-widgets/controls",
          "model_name": "ProgressStyleModel",
          "model_module_version": "1.5.0",
          "state": {
            "_model_module": "@jupyter-widgets/controls",
            "_model_module_version": "1.5.0",
            "_model_name": "ProgressStyleModel",
            "_view_count": null,
            "_view_module": "@jupyter-widgets/base",
            "_view_module_version": "1.2.0",
            "_view_name": "StyleView",
            "bar_color": null,
            "description_width": ""
          }
        },
        "ddf70b6a44ee4cdf888b616e697f8748": {
          "model_module": "@jupyter-widgets/base",
          "model_name": "LayoutModel",
          "model_module_version": "1.2.0",
          "state": {
            "_model_module": "@jupyter-widgets/base",
            "_model_module_version": "1.2.0",
            "_model_name": "LayoutModel",
            "_view_count": null,
            "_view_module": "@jupyter-widgets/base",
            "_view_module_version": "1.2.0",
            "_view_name": "LayoutView",
            "align_content": null,
            "align_items": null,
            "align_self": null,
            "border": null,
            "bottom": null,
            "display": null,
            "flex": null,
            "flex_flow": null,
            "grid_area": null,
            "grid_auto_columns": null,
            "grid_auto_flow": null,
            "grid_auto_rows": null,
            "grid_column": null,
            "grid_gap": null,
            "grid_row": null,
            "grid_template_areas": null,
            "grid_template_columns": null,
            "grid_template_rows": null,
            "height": null,
            "justify_content": null,
            "justify_items": null,
            "left": null,
            "margin": null,
            "max_height": null,
            "max_width": null,
            "min_height": null,
            "min_width": null,
            "object_fit": null,
            "object_position": null,
            "order": null,
            "overflow": null,
            "overflow_x": null,
            "overflow_y": null,
            "padding": null,
            "right": null,
            "top": null,
            "visibility": null,
            "width": null
          }
        },
        "cdceea53780544e8a6bd0f0d4cff745d": {
          "model_module": "@jupyter-widgets/controls",
          "model_name": "DescriptionStyleModel",
          "model_module_version": "1.5.0",
          "state": {
            "_model_module": "@jupyter-widgets/controls",
            "_model_module_version": "1.5.0",
            "_model_name": "DescriptionStyleModel",
            "_view_count": null,
            "_view_module": "@jupyter-widgets/base",
            "_view_module_version": "1.2.0",
            "_view_name": "StyleView",
            "description_width": ""
          }
        },
        "2f1bae564b1047d399182b6f65d109d0": {
          "model_module": "@jupyter-widgets/controls",
          "model_name": "HBoxModel",
          "model_module_version": "1.5.0",
          "state": {
            "_dom_classes": [],
            "_model_module": "@jupyter-widgets/controls",
            "_model_module_version": "1.5.0",
            "_model_name": "HBoxModel",
            "_view_count": null,
            "_view_module": "@jupyter-widgets/controls",
            "_view_module_version": "1.5.0",
            "_view_name": "HBoxView",
            "box_style": "",
            "children": [
              "IPY_MODEL_87ffe2092e2e4ece808114aaed3f5411",
              "IPY_MODEL_c77a926829444b5597322de36a2beba0",
              "IPY_MODEL_bcff1f70852e4616ab97bc7b673197eb"
            ],
            "layout": "IPY_MODEL_22b61809ac9347baa81d5c49351f7859"
          }
        },
        "87ffe2092e2e4ece808114aaed3f5411": {
          "model_module": "@jupyter-widgets/controls",
          "model_name": "HTMLModel",
          "model_module_version": "1.5.0",
          "state": {
            "_dom_classes": [],
            "_model_module": "@jupyter-widgets/controls",
            "_model_module_version": "1.5.0",
            "_model_name": "HTMLModel",
            "_view_count": null,
            "_view_module": "@jupyter-widgets/controls",
            "_view_module_version": "1.5.0",
            "_view_name": "HTMLView",
            "description": "",
            "description_tooltip": null,
            "layout": "IPY_MODEL_aa70b66999214a3785b0db4b4024d12e",
            "placeholder": "​",
            "style": "IPY_MODEL_687ee01d55d64a2aac71cafc6a3200b5",
            "value": "100%"
          }
        },
        "c77a926829444b5597322de36a2beba0": {
          "model_module": "@jupyter-widgets/controls",
          "model_name": "FloatProgressModel",
          "model_module_version": "1.5.0",
          "state": {
            "_dom_classes": [],
            "_model_module": "@jupyter-widgets/controls",
            "_model_module_version": "1.5.0",
            "_model_name": "FloatProgressModel",
            "_view_count": null,
            "_view_module": "@jupyter-widgets/controls",
            "_view_module_version": "1.5.0",
            "_view_name": "ProgressView",
            "bar_style": "success",
            "description": "",
            "description_tooltip": null,
            "layout": "IPY_MODEL_a927fb0096904195b36b8ecd8445915c",
            "max": 1000,
            "min": 0,
            "orientation": "horizontal",
            "style": "IPY_MODEL_3d86106766f04b88a16ddc1ebfe49104",
            "value": 1000
          }
        },
        "bcff1f70852e4616ab97bc7b673197eb": {
          "model_module": "@jupyter-widgets/controls",
          "model_name": "HTMLModel",
          "model_module_version": "1.5.0",
          "state": {
            "_dom_classes": [],
            "_model_module": "@jupyter-widgets/controls",
            "_model_module_version": "1.5.0",
            "_model_name": "HTMLModel",
            "_view_count": null,
            "_view_module": "@jupyter-widgets/controls",
            "_view_module_version": "1.5.0",
            "_view_name": "HTMLView",
            "description": "",
            "description_tooltip": null,
            "layout": "IPY_MODEL_523c37ef25f24fc2a90c48f36520ff4a",
            "placeholder": "​",
            "style": "IPY_MODEL_38fb4ee52aa542a2bb111f56c968a1a8",
            "value": " 1000/1000 [00:10&lt;00:00, 100.27it/s]"
          }
        },
        "22b61809ac9347baa81d5c49351f7859": {
          "model_module": "@jupyter-widgets/base",
          "model_name": "LayoutModel",
          "model_module_version": "1.2.0",
          "state": {
            "_model_module": "@jupyter-widgets/base",
            "_model_module_version": "1.2.0",
            "_model_name": "LayoutModel",
            "_view_count": null,
            "_view_module": "@jupyter-widgets/base",
            "_view_module_version": "1.2.0",
            "_view_name": "LayoutView",
            "align_content": null,
            "align_items": null,
            "align_self": null,
            "border": null,
            "bottom": null,
            "display": null,
            "flex": null,
            "flex_flow": null,
            "grid_area": null,
            "grid_auto_columns": null,
            "grid_auto_flow": null,
            "grid_auto_rows": null,
            "grid_column": null,
            "grid_gap": null,
            "grid_row": null,
            "grid_template_areas": null,
            "grid_template_columns": null,
            "grid_template_rows": null,
            "height": null,
            "justify_content": null,
            "justify_items": null,
            "left": null,
            "margin": null,
            "max_height": null,
            "max_width": null,
            "min_height": null,
            "min_width": null,
            "object_fit": null,
            "object_position": null,
            "order": null,
            "overflow": null,
            "overflow_x": null,
            "overflow_y": null,
            "padding": null,
            "right": null,
            "top": null,
            "visibility": null,
            "width": null
          }
        },
        "aa70b66999214a3785b0db4b4024d12e": {
          "model_module": "@jupyter-widgets/base",
          "model_name": "LayoutModel",
          "model_module_version": "1.2.0",
          "state": {
            "_model_module": "@jupyter-widgets/base",
            "_model_module_version": "1.2.0",
            "_model_name": "LayoutModel",
            "_view_count": null,
            "_view_module": "@jupyter-widgets/base",
            "_view_module_version": "1.2.0",
            "_view_name": "LayoutView",
            "align_content": null,
            "align_items": null,
            "align_self": null,
            "border": null,
            "bottom": null,
            "display": null,
            "flex": null,
            "flex_flow": null,
            "grid_area": null,
            "grid_auto_columns": null,
            "grid_auto_flow": null,
            "grid_auto_rows": null,
            "grid_column": null,
            "grid_gap": null,
            "grid_row": null,
            "grid_template_areas": null,
            "grid_template_columns": null,
            "grid_template_rows": null,
            "height": null,
            "justify_content": null,
            "justify_items": null,
            "left": null,
            "margin": null,
            "max_height": null,
            "max_width": null,
            "min_height": null,
            "min_width": null,
            "object_fit": null,
            "object_position": null,
            "order": null,
            "overflow": null,
            "overflow_x": null,
            "overflow_y": null,
            "padding": null,
            "right": null,
            "top": null,
            "visibility": null,
            "width": null
          }
        },
        "687ee01d55d64a2aac71cafc6a3200b5": {
          "model_module": "@jupyter-widgets/controls",
          "model_name": "DescriptionStyleModel",
          "model_module_version": "1.5.0",
          "state": {
            "_model_module": "@jupyter-widgets/controls",
            "_model_module_version": "1.5.0",
            "_model_name": "DescriptionStyleModel",
            "_view_count": null,
            "_view_module": "@jupyter-widgets/base",
            "_view_module_version": "1.2.0",
            "_view_name": "StyleView",
            "description_width": ""
          }
        },
        "a927fb0096904195b36b8ecd8445915c": {
          "model_module": "@jupyter-widgets/base",
          "model_name": "LayoutModel",
          "model_module_version": "1.2.0",
          "state": {
            "_model_module": "@jupyter-widgets/base",
            "_model_module_version": "1.2.0",
            "_model_name": "LayoutModel",
            "_view_count": null,
            "_view_module": "@jupyter-widgets/base",
            "_view_module_version": "1.2.0",
            "_view_name": "LayoutView",
            "align_content": null,
            "align_items": null,
            "align_self": null,
            "border": null,
            "bottom": null,
            "display": null,
            "flex": null,
            "flex_flow": null,
            "grid_area": null,
            "grid_auto_columns": null,
            "grid_auto_flow": null,
            "grid_auto_rows": null,
            "grid_column": null,
            "grid_gap": null,
            "grid_row": null,
            "grid_template_areas": null,
            "grid_template_columns": null,
            "grid_template_rows": null,
            "height": null,
            "justify_content": null,
            "justify_items": null,
            "left": null,
            "margin": null,
            "max_height": null,
            "max_width": null,
            "min_height": null,
            "min_width": null,
            "object_fit": null,
            "object_position": null,
            "order": null,
            "overflow": null,
            "overflow_x": null,
            "overflow_y": null,
            "padding": null,
            "right": null,
            "top": null,
            "visibility": null,
            "width": null
          }
        },
        "3d86106766f04b88a16ddc1ebfe49104": {
          "model_module": "@jupyter-widgets/controls",
          "model_name": "ProgressStyleModel",
          "model_module_version": "1.5.0",
          "state": {
            "_model_module": "@jupyter-widgets/controls",
            "_model_module_version": "1.5.0",
            "_model_name": "ProgressStyleModel",
            "_view_count": null,
            "_view_module": "@jupyter-widgets/base",
            "_view_module_version": "1.2.0",
            "_view_name": "StyleView",
            "bar_color": null,
            "description_width": ""
          }
        },
        "523c37ef25f24fc2a90c48f36520ff4a": {
          "model_module": "@jupyter-widgets/base",
          "model_name": "LayoutModel",
          "model_module_version": "1.2.0",
          "state": {
            "_model_module": "@jupyter-widgets/base",
            "_model_module_version": "1.2.0",
            "_model_name": "LayoutModel",
            "_view_count": null,
            "_view_module": "@jupyter-widgets/base",
            "_view_module_version": "1.2.0",
            "_view_name": "LayoutView",
            "align_content": null,
            "align_items": null,
            "align_self": null,
            "border": null,
            "bottom": null,
            "display": null,
            "flex": null,
            "flex_flow": null,
            "grid_area": null,
            "grid_auto_columns": null,
            "grid_auto_flow": null,
            "grid_auto_rows": null,
            "grid_column": null,
            "grid_gap": null,
            "grid_row": null,
            "grid_template_areas": null,
            "grid_template_columns": null,
            "grid_template_rows": null,
            "height": null,
            "justify_content": null,
            "justify_items": null,
            "left": null,
            "margin": null,
            "max_height": null,
            "max_width": null,
            "min_height": null,
            "min_width": null,
            "object_fit": null,
            "object_position": null,
            "order": null,
            "overflow": null,
            "overflow_x": null,
            "overflow_y": null,
            "padding": null,
            "right": null,
            "top": null,
            "visibility": null,
            "width": null
          }
        },
        "38fb4ee52aa542a2bb111f56c968a1a8": {
          "model_module": "@jupyter-widgets/controls",
          "model_name": "DescriptionStyleModel",
          "model_module_version": "1.5.0",
          "state": {
            "_model_module": "@jupyter-widgets/controls",
            "_model_module_version": "1.5.0",
            "_model_name": "DescriptionStyleModel",
            "_view_count": null,
            "_view_module": "@jupyter-widgets/base",
            "_view_module_version": "1.2.0",
            "_view_name": "StyleView",
            "description_width": ""
          }
        },
        "c01f08da208e4d6f86a4f58a718b8b38": {
          "model_module": "@jupyter-widgets/controls",
          "model_name": "HBoxModel",
          "model_module_version": "1.5.0",
          "state": {
            "_dom_classes": [],
            "_model_module": "@jupyter-widgets/controls",
            "_model_module_version": "1.5.0",
            "_model_name": "HBoxModel",
            "_view_count": null,
            "_view_module": "@jupyter-widgets/controls",
            "_view_module_version": "1.5.0",
            "_view_name": "HBoxView",
            "box_style": "",
            "children": [
              "IPY_MODEL_a26d934127d548e7b4b05ac815e13125",
              "IPY_MODEL_7924d583e06e43a8baba273d76cfaf21",
              "IPY_MODEL_3d4a8f3467874d8cb25139de0f7be24e"
            ],
            "layout": "IPY_MODEL_7c500abee9704c30870501c159915cb7"
          }
        },
        "a26d934127d548e7b4b05ac815e13125": {
          "model_module": "@jupyter-widgets/controls",
          "model_name": "HTMLModel",
          "model_module_version": "1.5.0",
          "state": {
            "_dom_classes": [],
            "_model_module": "@jupyter-widgets/controls",
            "_model_module_version": "1.5.0",
            "_model_name": "HTMLModel",
            "_view_count": null,
            "_view_module": "@jupyter-widgets/controls",
            "_view_module_version": "1.5.0",
            "_view_name": "HTMLView",
            "description": "",
            "description_tooltip": null,
            "layout": "IPY_MODEL_21865f51460c45b58fc62cd28dffb7b0",
            "placeholder": "​",
            "style": "IPY_MODEL_ac906259b3734f47818a4d54cd921081",
            "value": "100%"
          }
        },
        "7924d583e06e43a8baba273d76cfaf21": {
          "model_module": "@jupyter-widgets/controls",
          "model_name": "FloatProgressModel",
          "model_module_version": "1.5.0",
          "state": {
            "_dom_classes": [],
            "_model_module": "@jupyter-widgets/controls",
            "_model_module_version": "1.5.0",
            "_model_name": "FloatProgressModel",
            "_view_count": null,
            "_view_module": "@jupyter-widgets/controls",
            "_view_module_version": "1.5.0",
            "_view_name": "ProgressView",
            "bar_style": "success",
            "description": "",
            "description_tooltip": null,
            "layout": "IPY_MODEL_97d2587be7b34a259e787714ab9120c9",
            "max": 1000,
            "min": 0,
            "orientation": "horizontal",
            "style": "IPY_MODEL_45a446ddc2574d8e989563b14efb225c",
            "value": 1000
          }
        },
        "3d4a8f3467874d8cb25139de0f7be24e": {
          "model_module": "@jupyter-widgets/controls",
          "model_name": "HTMLModel",
          "model_module_version": "1.5.0",
          "state": {
            "_dom_classes": [],
            "_model_module": "@jupyter-widgets/controls",
            "_model_module_version": "1.5.0",
            "_model_name": "HTMLModel",
            "_view_count": null,
            "_view_module": "@jupyter-widgets/controls",
            "_view_module_version": "1.5.0",
            "_view_name": "HTMLView",
            "description": "",
            "description_tooltip": null,
            "layout": "IPY_MODEL_c52c13f2ec25412fbe6cd4a774867952",
            "placeholder": "​",
            "style": "IPY_MODEL_bae050adfc6446feac2062d46e991205",
            "value": " 1000/1000 [00:00&lt;00:00, 1719.22it/s]"
          }
        },
        "7c500abee9704c30870501c159915cb7": {
          "model_module": "@jupyter-widgets/base",
          "model_name": "LayoutModel",
          "model_module_version": "1.2.0",
          "state": {
            "_model_module": "@jupyter-widgets/base",
            "_model_module_version": "1.2.0",
            "_model_name": "LayoutModel",
            "_view_count": null,
            "_view_module": "@jupyter-widgets/base",
            "_view_module_version": "1.2.0",
            "_view_name": "LayoutView",
            "align_content": null,
            "align_items": null,
            "align_self": null,
            "border": null,
            "bottom": null,
            "display": null,
            "flex": null,
            "flex_flow": null,
            "grid_area": null,
            "grid_auto_columns": null,
            "grid_auto_flow": null,
            "grid_auto_rows": null,
            "grid_column": null,
            "grid_gap": null,
            "grid_row": null,
            "grid_template_areas": null,
            "grid_template_columns": null,
            "grid_template_rows": null,
            "height": null,
            "justify_content": null,
            "justify_items": null,
            "left": null,
            "margin": null,
            "max_height": null,
            "max_width": null,
            "min_height": null,
            "min_width": null,
            "object_fit": null,
            "object_position": null,
            "order": null,
            "overflow": null,
            "overflow_x": null,
            "overflow_y": null,
            "padding": null,
            "right": null,
            "top": null,
            "visibility": null,
            "width": null
          }
        },
        "21865f51460c45b58fc62cd28dffb7b0": {
          "model_module": "@jupyter-widgets/base",
          "model_name": "LayoutModel",
          "model_module_version": "1.2.0",
          "state": {
            "_model_module": "@jupyter-widgets/base",
            "_model_module_version": "1.2.0",
            "_model_name": "LayoutModel",
            "_view_count": null,
            "_view_module": "@jupyter-widgets/base",
            "_view_module_version": "1.2.0",
            "_view_name": "LayoutView",
            "align_content": null,
            "align_items": null,
            "align_self": null,
            "border": null,
            "bottom": null,
            "display": null,
            "flex": null,
            "flex_flow": null,
            "grid_area": null,
            "grid_auto_columns": null,
            "grid_auto_flow": null,
            "grid_auto_rows": null,
            "grid_column": null,
            "grid_gap": null,
            "grid_row": null,
            "grid_template_areas": null,
            "grid_template_columns": null,
            "grid_template_rows": null,
            "height": null,
            "justify_content": null,
            "justify_items": null,
            "left": null,
            "margin": null,
            "max_height": null,
            "max_width": null,
            "min_height": null,
            "min_width": null,
            "object_fit": null,
            "object_position": null,
            "order": null,
            "overflow": null,
            "overflow_x": null,
            "overflow_y": null,
            "padding": null,
            "right": null,
            "top": null,
            "visibility": null,
            "width": null
          }
        },
        "ac906259b3734f47818a4d54cd921081": {
          "model_module": "@jupyter-widgets/controls",
          "model_name": "DescriptionStyleModel",
          "model_module_version": "1.5.0",
          "state": {
            "_model_module": "@jupyter-widgets/controls",
            "_model_module_version": "1.5.0",
            "_model_name": "DescriptionStyleModel",
            "_view_count": null,
            "_view_module": "@jupyter-widgets/base",
            "_view_module_version": "1.2.0",
            "_view_name": "StyleView",
            "description_width": ""
          }
        },
        "97d2587be7b34a259e787714ab9120c9": {
          "model_module": "@jupyter-widgets/base",
          "model_name": "LayoutModel",
          "model_module_version": "1.2.0",
          "state": {
            "_model_module": "@jupyter-widgets/base",
            "_model_module_version": "1.2.0",
            "_model_name": "LayoutModel",
            "_view_count": null,
            "_view_module": "@jupyter-widgets/base",
            "_view_module_version": "1.2.0",
            "_view_name": "LayoutView",
            "align_content": null,
            "align_items": null,
            "align_self": null,
            "border": null,
            "bottom": null,
            "display": null,
            "flex": null,
            "flex_flow": null,
            "grid_area": null,
            "grid_auto_columns": null,
            "grid_auto_flow": null,
            "grid_auto_rows": null,
            "grid_column": null,
            "grid_gap": null,
            "grid_row": null,
            "grid_template_areas": null,
            "grid_template_columns": null,
            "grid_template_rows": null,
            "height": null,
            "justify_content": null,
            "justify_items": null,
            "left": null,
            "margin": null,
            "max_height": null,
            "max_width": null,
            "min_height": null,
            "min_width": null,
            "object_fit": null,
            "object_position": null,
            "order": null,
            "overflow": null,
            "overflow_x": null,
            "overflow_y": null,
            "padding": null,
            "right": null,
            "top": null,
            "visibility": null,
            "width": null
          }
        },
        "45a446ddc2574d8e989563b14efb225c": {
          "model_module": "@jupyter-widgets/controls",
          "model_name": "ProgressStyleModel",
          "model_module_version": "1.5.0",
          "state": {
            "_model_module": "@jupyter-widgets/controls",
            "_model_module_version": "1.5.0",
            "_model_name": "ProgressStyleModel",
            "_view_count": null,
            "_view_module": "@jupyter-widgets/base",
            "_view_module_version": "1.2.0",
            "_view_name": "StyleView",
            "bar_color": null,
            "description_width": ""
          }
        },
        "c52c13f2ec25412fbe6cd4a774867952": {
          "model_module": "@jupyter-widgets/base",
          "model_name": "LayoutModel",
          "model_module_version": "1.2.0",
          "state": {
            "_model_module": "@jupyter-widgets/base",
            "_model_module_version": "1.2.0",
            "_model_name": "LayoutModel",
            "_view_count": null,
            "_view_module": "@jupyter-widgets/base",
            "_view_module_version": "1.2.0",
            "_view_name": "LayoutView",
            "align_content": null,
            "align_items": null,
            "align_self": null,
            "border": null,
            "bottom": null,
            "display": null,
            "flex": null,
            "flex_flow": null,
            "grid_area": null,
            "grid_auto_columns": null,
            "grid_auto_flow": null,
            "grid_auto_rows": null,
            "grid_column": null,
            "grid_gap": null,
            "grid_row": null,
            "grid_template_areas": null,
            "grid_template_columns": null,
            "grid_template_rows": null,
            "height": null,
            "justify_content": null,
            "justify_items": null,
            "left": null,
            "margin": null,
            "max_height": null,
            "max_width": null,
            "min_height": null,
            "min_width": null,
            "object_fit": null,
            "object_position": null,
            "order": null,
            "overflow": null,
            "overflow_x": null,
            "overflow_y": null,
            "padding": null,
            "right": null,
            "top": null,
            "visibility": null,
            "width": null
          }
        },
        "bae050adfc6446feac2062d46e991205": {
          "model_module": "@jupyter-widgets/controls",
          "model_name": "DescriptionStyleModel",
          "model_module_version": "1.5.0",
          "state": {
            "_model_module": "@jupyter-widgets/controls",
            "_model_module_version": "1.5.0",
            "_model_name": "DescriptionStyleModel",
            "_view_count": null,
            "_view_module": "@jupyter-widgets/base",
            "_view_module_version": "1.2.0",
            "_view_name": "StyleView",
            "description_width": ""
          }
        }
      }
    }
  },
  "nbformat": 4,
  "nbformat_minor": 5
}