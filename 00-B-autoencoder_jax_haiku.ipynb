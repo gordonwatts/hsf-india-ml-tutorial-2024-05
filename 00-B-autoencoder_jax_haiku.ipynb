{
  "cells": [
    {
      "cell_type": "markdown",
      "metadata": {
        "id": "0ykeW0bBijj_"
      },
      "source": [
        "# Building an Autoencoder with Haiku and JAX\n",
        "\n",
        "*Prof Christopher Tunnell, 20-May-2024, HSF-India, U. Delhi*\n",
        "\n",
        "This tutorial will guide you through the process of building an autoencoder using Haiku and JAX. The tutorial is designed for physics PhD students who may not have a deep understanding of programming or machine learning.\n",
        "\n",
        "## Step 1: Install Necessary Libraries\n",
        "\n",
        "First, we need to install the necessary libraries. These libraries provide tools for building, training, and evaluating our neural network model.\n",
        "\n",
        "### Concept:\n",
        "We will use JAX for high-performance numerical computing, Haiku for building neural networks, Optax for optimization, and other supporting libraries.  (These should be installed.)\n"
      ]
    },
    {
      "cell_type": "markdown",
      "metadata": {
        "id": "4Kq0bdo-ijPH"
      },
      "source": [
        "## Step 2: Define the Autoencoder Model\n",
        "\n",
        "An autoencoder is a type of neural network used to learn efficient representations of data, typically for the purpose of dimensionality reduction or feature learning. It consists of two main parts: the encoder and the decoder.\n",
        "\n",
        "### Concept:\n",
        "The encoder compresses the input data into a smaller, latent space representation, and the decoder reconstructs the original data from this compressed representation.\n",
        "\n",
        "Learn more about [Autoencoders on Wikipedia](https://en.wikipedia.org/wiki/Autoencoder)."
      ]
    },
    {
      "cell_type": "code",
      "execution_count": 4,
      "metadata": {
        "id": "WonT0orPijIG"
      },
      "outputs": [],
      "source": [
        "import haiku as hk\n",
        "import jax\n",
        "import jax.numpy as jnp\n",
        "from jax import random\n",
        "\n",
        "class Autoencoder(hk.Module):\n",
        "    def __init__(self, encoder_layers, decoder_layers):\n",
        "        super().__init__()\n",
        "        self.encoder_layers = encoder_layers\n",
        "        self.decoder_layers = decoder_layers\n",
        "\n",
        "    def __call__(self, x):\n",
        "        # Encoder\n",
        "        for units in self.encoder_layers:\n",
        "            x = hk.Linear(units)(x)\n",
        "            x = jax.nn.tanh(x)\n",
        "\n",
        "        # Latent space\n",
        "        latent = x\n",
        "\n",
        "        # Decoder\n",
        "        for units in self.decoder_layers[:-1]:\n",
        "            x = hk.Linear(units)(x)\n",
        "            x = jax.nn.tanh(x)\n",
        "\n",
        "        # Output layer\n",
        "        x = hk.Linear(self.decoder_layers[-1])(x)\n",
        "        return x, latent"
      ]
    },
    {
      "cell_type": "markdown",
      "metadata": {
        "id": "DyFlz5D3ijBD"
      },
      "source": [
        "### Explanation:\n",
        "1. **Encoder**:\n",
        "    - The encoder compresses the input data into a latent space.\n",
        "    - Each layer in the encoder is a dense layer followed by a tanh activation function.\n",
        "\n",
        "2. **Latent Space**:\n",
        "    - The compressed representation of the input data.\n",
        "\n",
        "3. **Decoder**:\n",
        "    - The decoder reconstructs the data from the latent space.\n",
        "    - Each layer in the decoder is a dense layer followed by a tanh activation function.\n",
        "    - The final layer outputs the reconstructed data.\n",
        "\n",
        "## Step 3: Create a Train State\n",
        "\n",
        "To train the neural network, we need to manage the model parameters and the optimizer state. This step involves creating a training state that includes these components.\n",
        "\n",
        "### Concept:\n",
        "We initialize the model parameters and set up the optimizer, which will update the model parameters during training to minimize the loss function.\n",
        "\n",
        "Learn more about [Optimization in Machine Learning on Wikipedia](https://en.wikipedia.org/wiki/Optimization_(mathematics))."
      ]
    },
    {
      "cell_type": "code",
      "execution_count": 5,
      "metadata": {
        "id": "hufJKPs0ii5g"
      },
      "outputs": [],
      "source": [
        "import optax\n",
        "\n",
        "def create_train_state(rng, model, learning_rate, input_shape):\n",
        "    params = model.init(rng, jnp.ones(input_shape))\n",
        "    tx = optax.adam(learning_rate)\n",
        "    opt_state = tx.init(params)\n",
        "    return params, opt_state, tx"
      ]
    },
    {
      "cell_type": "markdown",
      "metadata": {
        "id": "OBm49BUBiit-"
      },
      "source": [
        "### Explanation:\n",
        "1. **Model Initialization**:\n",
        "    - We initialize the model parameters using a random key (`rng`) and a dummy input.\n",
        "\n",
        "2. **Optimizer**:\n",
        "    - We use the Adam optimizer with a specified learning rate.\n",
        "    - The optimizer state is initialized using the model parameters.\n",
        "\n",
        "## Step 4: Define the Loss Function and Update Step\n",
        "\n",
        "To train the autoencoder, we need a loss function that measures the difference between the original and reconstructed data. Additionally, we define an update step to adjust the model parameters based on this loss.\n",
        "\n",
        "### Concept:\n",
        "The loss function helps us quantify how well the autoencoder is performing, and the update step involves using gradient descent to minimize this loss.\n",
        "\n",
        "Learn more about [Loss Functions on Wikipedia](https://en.wikipedia.org/wiki/Loss_function)."
      ]
    },
    {
      "cell_type": "code",
      "execution_count": 6,
      "metadata": {
        "id": "kjgxtV_IiifW"
      },
      "outputs": [],
      "source": [
        "def compute_loss(params, rng, batch):\n",
        "    preds, _ = model.apply(params, rng, batch)\n",
        "    loss = jnp.mean((preds - batch) ** 2)\n",
        "    return loss\n",
        "\n",
        "@jax.jit\n",
        "def update(params, opt_state, rng, batch):\n",
        "    rng, new_rng = random.split(rng)\n",
        "    loss, grads = jax.value_and_grad(compute_loss)(params, rng, batch)\n",
        "    updates, opt_state = tx.update(grads, opt_state)\n",
        "    params = optax.apply_updates(params, updates)\n",
        "    return params, opt_state, loss, new_rng"
      ]
    },
    {
      "cell_type": "markdown",
      "metadata": {
        "id": "QrBpPD7gkGow"
      },
      "source": [
        "### Explanation:\n",
        "1. **Loss Function**:\n",
        "    - The `compute_loss` function calculates the mean squared error between the predicted and actual data.\n",
        "\n",
        "2. **Update Step**:\n",
        "    - The `update` function calculates the gradients of the loss with respect to the model parameters.\n",
        "    - The optimizer updates the model parameters using the gradients.\n",
        "\n",
        "## Step 5: Prepare the Data\n",
        "\n",
        "We will use the Digits dataset from scikit-learn for training the autoencoder. The data is scaled to have zero mean and unit variance.\n",
        "\n",
        "### Concept:\n",
        "Data preprocessing is crucial for machine learning as it ensures that the data is in a suitable format and scale for the model to learn effectively.\n",
        "\n",
        "Learn more about the [Digits Dataset on Wikipedia](https://en.wikipedia.org/wiki/Optical_character_recognition)."
      ]
    },
    {
      "cell_type": "code",
      "execution_count": 12,
      "metadata": {
        "id": "vtambMDIkFEY"
      },
      "outputs": [],
      "source": [
        "from sklearn.preprocessing import StandardScaler\n",
        "from sklearn.datasets import load_digits\n",
        "from sklearn.model_selection import train_test_split\n",
        "\n",
        "# Load and scale the data\n",
        "digits = load_digits()\n",
        "data = digits.data\n",
        "scaler = StandardScaler()\n",
        "data = scaler.fit_transform(data)\n",
        "\n",
        "# Split the data into training and testing sets\n",
        "train_data, test_data = train_test_split(data, test_size=0.2, random_state=42)"
      ]
    },
    {
      "cell_type": "markdown",
      "metadata": {
        "id": "DJfGaPw3kFbo"
      },
      "source": [
        "### Explanation:\n",
        "1. **Loading the Data**:\n",
        "    - We load the Digits dataset using scikit-learn.\n",
        "\n",
        "2. **Scaling the Data**:\n",
        "    - We scale the data to have zero mean and unit variance using StandardScaler.\n",
        "\n",
        "3. **Splitting the Data**:\n",
        "    - We split the data into training and testing sets.\n",
        "\n",
        "## Step 6: Train the Autoencoder\n",
        "\n",
        "We will train the autoencoder using the training data and evaluate it using the test data.\n",
        "\n",
        "### Concept:\n",
        "Training involves feeding the data through the autoencoder, computing the loss, and updating the model parameters to minimize this loss. We also evaluate the model on test data to monitor its performance.\n",
        "\n",
        "Learn more about [Backpropagation on Wikipedia](https://en.wikipedia.org/wiki/Backpropagation)."
      ]
    },
    {
      "cell_type": "code",
      "execution_count": 11,
      "metadata": {
        "colab": {
          "base_uri": "https://localhost:8080/",
          "height": 49,
          "referenced_widgets": [
            "4cb088264cf848d2bcf42954fc05daf4",
            "2ac335a141634b44b6cb2af85164f128",
            "4966aefc5f884bb1aaab45cf5998bae8",
            "4dd0d9e7649a46f3977c32d5f05485cf",
            "fd2e5ff7f2d64c79ad8cbba4a5a822df",
            "05dcc662fad945e4a72d97c4cf8c1d62",
            "76f0f21939cb48f9bbd9cab4b16af472",
            "3397244638874df2a52764986e648812",
            "1378a29fe2754c08a51352879fab0218",
            "f149d037d80042309aaaa8c91d99099c",
            "d05501e8ba6741f6a12696a250d6598e"
          ]
        },
        "id": "1j0WMw71kSA4",
        "outputId": "695e2e30-78b0-414d-f0a0-4840b012a64b"
      },
      "outputs": [
        {
          "data": {
            "application/vnd.jupyter.widget-view+json": {
              "model_id": "4cb088264cf848d2bcf42954fc05daf4",
              "version_major": 2,
              "version_minor": 0
            },
            "text/plain": [
              "  0%|          | 0/1000 [00:00<?, ?it/s]"
            ]
          },
          "metadata": {},
          "output_type": "display_data"
        }
      ],
      "source": [
        "from tqdm.notebook import tqdm\n",
        "import matplotlib.pyplot as plt\n",
        "\n",
        "# Initialize model and training state\n",
        "rng = random.PRNGKey(0)\n",
        "model = hk.transform(lambda x: Autoencoder([128, 64], [64, 128, data.shape[1]])(x))\n",
        "params, opt_state, tx = create_train_state(rng, model, learning_rate=0.001, input_shape=(data.shape[1],))\n",
        "\n",
        "# Training loop\n",
        "num_epochs = 1000\n",
        "batch_size = 32\n",
        "train_losses = []\n",
        "test_losses = []\n",
        "\n",
        "for epoch in tqdm(range(num_epochs)):\n",
        "    for i in range(0, len(train_data), batch_size):\n",
        "        batch = train_data[i:i + batch_size]\n",
        "        params, opt_state, train_loss, rng = update(params, opt_state, rng, batch)\n",
        "\n",
        "    rng, new_rng = random.split(rng)\n",
        "    test_loss = compute_loss(params, new_rng, test_data)\n",
        "    train_losses.append(train_loss)\n",
        "    test_losses.append(test_loss)"
      ]
    },
    {
      "cell_type": "markdown",
      "metadata": {
        "id": "smktgI-AkVHX"
      },
      "source": [
        "### Explanation:\n",
        "1. **Initialize Model and Training State**:\n",
        "    - We create a random key `rng` and initialize the autoencoder model with specified encoder and decoder layers.\n",
        "    - We create the initial training state using the `create_train_state` function.\n",
        "\n",
        "2. **Training Loop**:\n",
        "    - We specify the number of epochs (`num_epochs`) and batch size (`batch_size`).\n",
        "    - We initialize lists to store the training and validation losses.\n",
        "\n",
        "3. **Epoch Loop**:\n",
        "    - We use `tqdm` to create a progress bar for the training loop.\n",
        "    - For each epoch, we iterate over the training data in batches, updating the model parameters using the `update` function.\n",
        "    - After processing all batches in an epoch, we compute the validation loss using `compute_loss` and store the losses.\n",
        "\n",
        "## Step 7: Plot the Training and Validation Losses\n",
        "\n",
        "After training the autoencoder, we can visualize the training and validation losses over epochs to understand how well the model is learning.\n",
        "\n",
        "### Concept:\n",
        "Plotting the losses helps us monitor the training process and detect issues like overfitting, where the model performs well on training data but poorly on test data.\n",
        "\n",
        "Learn more about [Loss Functions and Training on Wikipedia](https://en.wikipedia.org/wiki/Loss_function)."
      ]
    },
    {
      "cell_type": "code",
      "execution_count": 10,
      "metadata": {
        "colab": {
          "base_uri": "https://localhost:8080/",
          "height": 487
        },
        "id": "yctjZVvikZ5n",
        "outputId": "efea1e6b-35d1-44f2-82fa-eaefbef81ad3"
      },
      "outputs": [
        {
          "data": {
            "image/png": "[encoded data removed]",
            "text/plain": [
              "<Figure size 1000x500 with 1 Axes>"
            ]
          },
          "metadata": {},
          "output_type": "display_data"
        }
      ],
      "source": [
        "plt.figure(figsize=(10, 5))\n",
        "plt.plot(train_losses, label='Train Loss')\n",
        "plt.plot(test_losses, label='Test Loss')\n",
        "plt.xlabel('Epochs')\n",
        "plt.ylabel('Loss')\n",
        "plt.legend()\n",
        "plt.title('Training and Validation Losses')\n",
        "#plt.yscale('log')\n",
        "plt.show()"
      ]
    },
    {
      "cell_type": "markdown",
      "metadata": {
        "id": "Uw798314iiRf"
      },
      "source": [
        "### Explanation:\n",
        "1. **Plotting**:\n",
        "    - We use Matplotlib to create a plot of the training and validation losses over epochs.\n",
        "    - We label the x-axis as 'Epochs' and the y-axis as 'Loss'.\n",
        "    - We add a legend to distinguish between training and validation losses.\n",
        "    - We set the title of the plot to 'Training and Validation Losses'.\n",
        "    - Finally, we displayed the plot."
      ]
    },
    {
      "cell_type": "code",
      "execution_count": 9,
      "metadata": {
        "id": "gnwdgyDBke4J"
      },
      "outputs": [],
      "source": []
    }
  ],
  "metadata": {
    "colab": {
      "provenance": []
    },
    "kernelspec": {
      "display_name": "Python 3",
      "name": "python3"
    },
    "language_info": {
      "name": "python"
    },
    "widgets": {
      "application/vnd.jupyter.widget-state+json": {
        "05dcc662fad945e4a72d97c4cf8c1d62": {
          "model_module": "@jupyter-widgets/base",
          "model_module_version": "1.2.0",
          "model_name": "LayoutModel",
          "state": {
            "_model_module": "@jupyter-widgets/base",
            "_model_module_version": "1.2.0",
            "_model_name": "LayoutModel",
            "_view_count": null,
            "_view_module": "@jupyter-widgets/base",
            "_view_module_version": "1.2.0",
            "_view_name": "LayoutView",
            "align_content": null,
            "align_items": null,
            "align_self": null,
            "border": null,
            "bottom": null,
            "display": null,
            "flex": null,
            "flex_flow": null,
            "grid_area": null,
            "grid_auto_columns": null,
            "grid_auto_flow": null,
            "grid_auto_rows": null,
            "grid_column": null,
            "grid_gap": null,
            "grid_row": null,
            "grid_template_areas": null,
            "grid_template_columns": null,
            "grid_template_rows": null,
            "height": null,
            "justify_content": null,
            "justify_items": null,
            "left": null,
            "margin": null,
            "max_height": null,
            "max_width": null,
            "min_height": null,
            "min_width": null,
            "object_fit": null,
            "object_position": null,
            "order": null,
            "overflow": null,
            "overflow_x": null,
            "overflow_y": null,
            "padding": null,
            "right": null,
            "top": null,
            "visibility": null,
            "width": null
          }
        },
        "1378a29fe2754c08a51352879fab0218": {
          "model_module": "@jupyter-widgets/controls",
          "model_module_version": "1.5.0",
          "model_name": "ProgressStyleModel",
          "state": {
            "_model_module": "@jupyter-widgets/controls",
            "_model_module_version": "1.5.0",
            "_model_name": "ProgressStyleModel",
            "_view_count": null,
            "_view_module": "@jupyter-widgets/base",
            "_view_module_version": "1.2.0",
            "_view_name": "StyleView",
            "bar_color": null,
            "description_width": ""
          }
        },
        "2ac335a141634b44b6cb2af85164f128": {
          "model_module": "@jupyter-widgets/controls",
          "model_module_version": "1.5.0",
          "model_name": "HTMLModel",
          "state": {
            "_dom_classes": [],
            "_model_module": "@jupyter-widgets/controls",
            "_model_module_version": "1.5.0",
            "_model_name": "HTMLModel",
            "_view_count": null,
            "_view_module": "@jupyter-widgets/controls",
            "_view_module_version": "1.5.0",
            "_view_name": "HTMLView",
            "description": "",
            "description_tooltip": null,
            "layout": "IPY_MODEL_05dcc662fad945e4a72d97c4cf8c1d62",
            "placeholder": "​",
            "style": "IPY_MODEL_76f0f21939cb48f9bbd9cab4b16af472",
            "value": "100%"
          }
        },
        "3397244638874df2a52764986e648812": {
          "model_module": "@jupyter-widgets/base",
          "model_module_version": "1.2.0",
          "model_name": "LayoutModel",
          "state": {
            "_model_module": "@jupyter-widgets/base",
            "_model_module_version": "1.2.0",
            "_model_name": "LayoutModel",
            "_view_count": null,
            "_view_module": "@jupyter-widgets/base",
            "_view_module_version": "1.2.0",
            "_view_name": "LayoutView",
            "align_content": null,
            "align_items": null,
            "align_self": null,
            "border": null,
            "bottom": null,
            "display": null,
            "flex": null,
            "flex_flow": null,
            "grid_area": null,
            "grid_auto_columns": null,
            "grid_auto_flow": null,
            "grid_auto_rows": null,
            "grid_column": null,
            "grid_gap": null,
            "grid_row": null,
            "grid_template_areas": null,
            "grid_template_columns": null,
            "grid_template_rows": null,
            "height": null,
            "justify_content": null,
            "justify_items": null,
            "left": null,
            "margin": null,
            "max_height": null,
            "max_width": null,
            "min_height": null,
            "min_width": null,
            "object_fit": null,
            "object_position": null,
            "order": null,
            "overflow": null,
            "overflow_x": null,
            "overflow_y": null,
            "padding": null,
            "right": null,
            "top": null,
            "visibility": null,
            "width": null
          }
        },
        "4966aefc5f884bb1aaab45cf5998bae8": {
          "model_module": "@jupyter-widgets/controls",
          "model_module_version": "1.5.0",
          "model_name": "FloatProgressModel",
          "state": {
            "_dom_classes": [],
            "_model_module": "@jupyter-widgets/controls",
            "_model_module_version": "1.5.0",
            "_model_name": "FloatProgressModel",
            "_view_count": null,
            "_view_module": "@jupyter-widgets/controls",
            "_view_module_version": "1.5.0",
            "_view_name": "ProgressView",
            "bar_style": "success",
            "description": "",
            "description_tooltip": null,
            "layout": "IPY_MODEL_3397244638874df2a52764986e648812",
            "max": 1000,
            "min": 0,
            "orientation": "horizontal",
            "style": "IPY_MODEL_1378a29fe2754c08a51352879fab0218",
            "value": 1000
          }
        },
        "4cb088264cf848d2bcf42954fc05daf4": {
          "model_module": "@jupyter-widgets/controls",
          "model_module_version": "1.5.0",
          "model_name": "HBoxModel",
          "state": {
            "_dom_classes": [],
            "_model_module": "@jupyter-widgets/controls",
            "_model_module_version": "1.5.0",
            "_model_name": "HBoxModel",
            "_view_count": null,
            "_view_module": "@jupyter-widgets/controls",
            "_view_module_version": "1.5.0",
            "_view_name": "HBoxView",
            "box_style": "",
            "children": [
              "IPY_MODEL_2ac335a141634b44b6cb2af85164f128",
              "IPY_MODEL_4966aefc5f884bb1aaab45cf5998bae8",
              "IPY_MODEL_4dd0d9e7649a46f3977c32d5f05485cf"
            ],
            "layout": "IPY_MODEL_fd2e5ff7f2d64c79ad8cbba4a5a822df"
          }
        },
        "4dd0d9e7649a46f3977c32d5f05485cf": {
          "model_module": "@jupyter-widgets/controls",
          "model_module_version": "1.5.0",
          "model_name": "HTMLModel",
          "state": {
            "_dom_classes": [],
            "_model_module": "@jupyter-widgets/controls",
            "_model_module_version": "1.5.0",
            "_model_name": "HTMLModel",
            "_view_count": null,
            "_view_module": "@jupyter-widgets/controls",
            "_view_module_version": "1.5.0",
            "_view_name": "HTMLView",
            "description": "",
            "description_tooltip": null,
            "layout": "IPY_MODEL_f149d037d80042309aaaa8c91d99099c",
            "placeholder": "​",
            "style": "IPY_MODEL_d05501e8ba6741f6a12696a250d6598e",
            "value": " 1000/1000 [00:29&lt;00:00, 23.96it/s]"
          }
        },
        "76f0f21939cb48f9bbd9cab4b16af472": {
          "model_module": "@jupyter-widgets/controls",
          "model_module_version": "1.5.0",
          "model_name": "DescriptionStyleModel",
          "state": {
            "_model_module": "@jupyter-widgets/controls",
            "_model_module_version": "1.5.0",
            "_model_name": "DescriptionStyleModel",
            "_view_count": null,
            "_view_module": "@jupyter-widgets/base",
            "_view_module_version": "1.2.0",
            "_view_name": "StyleView",
            "description_width": ""
          }
        },
        "d05501e8ba6741f6a12696a250d6598e": {
          "model_module": "@jupyter-widgets/controls",
          "model_module_version": "1.5.0",
          "model_name": "DescriptionStyleModel",
          "state": {
            "_model_module": "@jupyter-widgets/controls",
            "_model_module_version": "1.5.0",
            "_model_name": "DescriptionStyleModel",
            "_view_count": null,
            "_view_module": "@jupyter-widgets/base",
            "_view_module_version": "1.2.0",
            "_view_name": "StyleView",
            "description_width": ""
          }
        },
        "f149d037d80042309aaaa8c91d99099c": {
          "model_module": "@jupyter-widgets/base",
          "model_module_version": "1.2.0",
          "model_name": "LayoutModel",
          "state": {
            "_model_module": "@jupyter-widgets/base",
            "_model_module_version": "1.2.0",
            "_model_name": "LayoutModel",
            "_view_count": null,
            "_view_module": "@jupyter-widgets/base",
            "_view_module_version": "1.2.0",
            "_view_name": "LayoutView",
            "align_content": null,
            "align_items": null,
            "align_self": null,
            "border": null,
            "bottom": null,
            "display": null,
            "flex": null,
            "flex_flow": null,
            "grid_area": null,
            "grid_auto_columns": null,
            "grid_auto_flow": null,
            "grid_auto_rows": null,
            "grid_column": null,
            "grid_gap": null,
            "grid_row": null,
            "grid_template_areas": null,
            "grid_template_columns": null,
            "grid_template_rows": null,
            "height": null,
            "justify_content": null,
            "justify_items": null,
            "left": null,
            "margin": null,
            "max_height": null,
            "max_width": null,
            "min_height": null,
            "min_width": null,
            "object_fit": null,
            "object_position": null,
            "order": null,
            "overflow": null,
            "overflow_x": null,
            "overflow_y": null,
            "padding": null,
            "right": null,
            "top": null,
            "visibility": null,
            "width": null
          }
        },
        "fd2e5ff7f2d64c79ad8cbba4a5a822df": {
          "model_module": "@jupyter-widgets/base",
          "model_module_version": "1.2.0",
          "model_name": "LayoutModel",
          "state": {
            "_model_module": "@jupyter-widgets/base",
            "_model_module_version": "1.2.0",
            "_model_name": "LayoutModel",
            "_view_count": null,
            "_view_module": "@jupyter-widgets/base",
            "_view_module_version": "1.2.0",
            "_view_name": "LayoutView",
            "align_content": null,
            "align_items": null,
            "align_self": null,
            "border": null,
            "bottom": null,
            "display": null,
            "flex": null,
            "flex_flow": null,
            "grid_area": null,
            "grid_auto_columns": null,
            "grid_auto_flow": null,
            "grid_auto_rows": null,
            "grid_column": null,
            "grid_gap": null,
            "grid_row": null,
            "grid_template_areas": null,
            "grid_template_columns": null,
            "grid_template_rows": null,
            "height": null,
            "justify_content": null,
            "justify_items": null,
            "left": null,
            "margin": null,
            "max_height": null,
            "max_width": null,
            "min_height": null,
            "min_width": null,
            "object_fit": null,
            "object_position": null,
            "order": null,
            "overflow": null,
            "overflow_x": null,
            "overflow_y": null,
            "padding": null,
            "right": null,
            "top": null,
            "visibility": null,
            "width": null
          }
        }
      }
    }
  },
  "nbformat": 4,
  "nbformat_minor": 0
}
