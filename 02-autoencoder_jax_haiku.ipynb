{
 "cells": [
  {
   "cell_type": "markdown",
   "metadata": {
    "id": "0ykeW0bBijj_"
   },
   "source": [
    "# Building an Autoencoder with Haiku and JAX\n",
    "\n",
    "*Prof Christopher Tunnell, 20-May-2024, HSF-India, U. Delhi*\n",
    "\n",
    "This tutorial will guide you through the process of building an autoencoder using Haiku and JAX. The tutorial is designed for physics PhD students who may not have a deep understanding of programming or machine learning.\n",
    "\n",
    "## Step 1: Install Necessary Libraries\n",
    "\n",
    "These are pre-installed for this demo - but you can see them in the `requirements.txt` file that is next to this file.\n",
    "\n",
    "### Concept:\n",
    "We will use JAX for high-performance numerical computing, Haiku for building neural networks, Optax for optimization, and other supporting libraries.  (These should be installed.)\n"
   ]
  },
  {
   "cell_type": "markdown",
   "metadata": {
    "id": "4Kq0bdo-ijPH"
   },
   "source": [
    "## Step 2: Define the Autoencoder Model\n",
    "\n",
    "An autoencoder is a type of neural network used to learn efficient representations of data, typically for the purpose of dimensionality reduction or feature learning. It consists of two main parts: the encoder and the decoder.\n",
    "\n",
    "### Concept:\n",
    "The encoder compresses the input data into a smaller, latent space representation, and the decoder reconstructs the original data from this compressed representation.\n",
    "\n",
    "Learn more about [Autoencoders on Wikipedia](https://en.wikipedia.org/wiki/Autoencoder)."
   ]
  },
  {
   "cell_type": "code",
   "execution_count": 50,
   "metadata": {
    "id": "WonT0orPijIG",
    "tags": []
   },
   "outputs": [],
   "source": [
    "import haiku as hk\n",
    "import jax\n",
    "import jax.numpy as jnp\n",
    "from jax import random\n",
    "\n",
    "class Autoencoder(hk.Module):\n",
    "    def __init__(self, encoder_layers, decoder_layers):\n",
    "        super().__init__()\n",
    "        self.encoder_layers = encoder_layers\n",
    "        self.decoder_layers = decoder_layers\n",
    "\n",
    "    def __call__(self, x):\n",
    "        # Encoder\n",
    "        for units in self.encoder_layers:\n",
    "            x = hk.Linear(units)(x)\n",
    "            x = jax.nn.tanh(x)\n",
    "\n",
    "        # Latent space\n",
    "        latent = x\n",
    "\n",
    "        # Decoder\n",
    "        for units in self.decoder_layers[:-1]:\n",
    "            x = hk.Linear(units)(x)\n",
    "            x = jax.nn.tanh(x)\n",
    "\n",
    "        # Output layer\n",
    "        x = hk.Linear(self.decoder_layers[-1])(x)\n",
    "        return x, latent"
   ]
  },
  {
   "cell_type": "markdown",
   "metadata": {
    "id": "DyFlz5D3ijBD"
   },
   "source": [
    "### Explanation:\n",
    "1. **Encoder**:\n",
    "    - The encoder compresses the input data into a latent space.\n",
    "    - Each layer in the encoder is a dense layer followed by a tanh activation function.\n",
    "\n",
    "2. **Latent Space**:\n",
    "    - The compressed representation of the input data.\n",
    "\n",
    "3. **Decoder**:\n",
    "    - The decoder reconstructs the data from the latent space.\n",
    "    - Each layer in the decoder is a dense layer followed by a tanh activation function.\n",
    "    - The final layer outputs the reconstructed data.\n",
    "\n",
    "## Step 3: Create a Train State\n",
    "\n",
    "To train the neural network, we need to manage the model parameters and the optimizer state. This step involves creating a training state that includes these components.\n",
    "\n",
    "### Concept:\n",
    "We initialize the model parameters and set up the optimizer, which will update the model parameters during training to minimize the loss function.\n",
    "\n",
    "Learn more about [Optimization in Machine Learning on Wikipedia](https://en.wikipedia.org/wiki/Optimization_(mathematics))."
   ]
  },
  {
   "cell_type": "code",
   "execution_count": 51,
   "metadata": {
    "id": "hufJKPs0ii5g"
   },
   "outputs": [],
   "source": [
    "import optax\n",
    "\n",
    "def create_train_state(rng, model, learning_rate, input_shape):\n",
    "    params = model.init(rng, jnp.ones(input_shape))\n",
    "    tx = optax.adam(learning_rate)\n",
    "    opt_state = tx.init(params)\n",
    "    return params, opt_state, tx"
   ]
  },
  {
   "cell_type": "markdown",
   "metadata": {
    "id": "OBm49BUBiit-"
   },
   "source": [
    "### Explanation:\n",
    "1. **Model Initialization**:\n",
    "    - We initialize the model parameters using a random key (`rng`) and a dummy input.\n",
    "\n",
    "2. **Optimizer**:\n",
    "    - We use the Adam optimizer with a specified learning rate.\n",
    "    - The optimizer state is initialized using the model parameters.\n",
    "\n",
    "## Step 4: Define the Loss Function and Update Step\n",
    "\n",
    "To train the autoencoder, we need a loss function that measures the difference between the original and reconstructed data. Additionally, we define an update step to adjust the model parameters based on this loss.\n",
    "\n",
    "### Concept:\n",
    "The loss function helps us quantify how well the autoencoder is performing, and the update step involves using gradient descent to minimize this loss.\n",
    "\n",
    "Learn more about [Loss Functions on Wikipedia](https://en.wikipedia.org/wiki/Loss_function)."
   ]
  },
  {
   "cell_type": "code",
   "execution_count": 52,
   "metadata": {
    "id": "kjgxtV_IiifW"
   },
   "outputs": [],
   "source": [
    "def compute_loss(params, rng, batch):\n",
    "    preds, _ = model.apply(params, rng, batch)\n",
    "    loss = jnp.mean((preds - batch) ** 2)\n",
    "    return loss\n",
    "\n",
    "@jax.jit\n",
    "def update(params, opt_state, rng, batch):\n",
    "    rng, new_rng = random.split(rng)\n",
    "    loss, grads = jax.value_and_grad(compute_loss)(params, rng, batch)\n",
    "    updates, opt_state = tx.update(grads, opt_state)\n",
    "    params = optax.apply_updates(params, updates)\n",
    "    return params, opt_state, loss, new_rng"
   ]
  },
  {
   "cell_type": "markdown",
   "metadata": {
    "id": "QrBpPD7gkGow"
   },
   "source": [
    "### Explanation:\n",
    "1. **Loss Function**:\n",
    "    - The `compute_loss` function calculates the mean squared error between the predicted and actual data.\n",
    "\n",
    "2. **Update Step**:\n",
    "    - The `update` function calculates the gradients of the loss with respect to the model parameters.\n",
    "    - The optimizer updates the model parameters using the gradients.\n",
    "\n",
    "## Step 5: Prepare the Data\n",
    "\n",
    "We will use the Digits dataset from scikit-learn for training the autoencoder. The data is scaled to have zero mean and unit variance.\n",
    "\n",
    "### Concept:\n",
    "Data preprocessing is crucial for machine learning as it ensures that the data is in a suitable format and scale for the model to learn effectively.\n",
    "\n",
    "Learn more about the [Digits Dataset on Wikipedia](https://en.wikipedia.org/wiki/Optical_character_recognition)."
   ]
  },
  {
   "cell_type": "code",
   "execution_count": 77,
   "metadata": {
    "id": "vtambMDIkFEY"
   },
   "outputs": [],
   "source": [
    "from sklearn.preprocessing import StandardScaler\n",
    "from sklearn.datasets import load_digits\n",
    "from sklearn.model_selection import train_test_split\n",
    "\n",
    "# Load and scale the data\n",
    "digits = load_digits()\n",
    "data = digits.data\n",
    "#scaler = StandardScaler()\n",
    "#data = scaler.fit_transform(data)\n",
    "\n",
    "# Split the data into training and testing sets\n",
    "train_data, test_data = train_test_split(data, test_size=0.2, random_state=42)"
   ]
  },
  {
   "cell_type": "markdown",
   "metadata": {
    "id": "DJfGaPw3kFbo",
    "tags": []
   },
   "source": [
    "### Explanation:\n",
    "1. **Loading the Data**:\n",
    "    - We load the Digits dataset using scikit-learn.\n",
    "\n",
    "2. **Scaling the Data**:\n",
    "    - We scale the data to have zero mean and unit variance using StandardScaler.\n",
    "\n",
    "3. **Splitting the Data**:\n",
    "    - We split the data into training and testing sets.\n",
    "    \n",
    "## Visualize the data"
   ]
  },
  {
   "cell_type": "code",
   "execution_count": 172,
   "metadata": {
    "tags": []
   },
   "outputs": [
    {
     "data": {
      "image/png": "[encoded data removed]",
      "text/plain": [
       "<Figure size 1000x300 with 4 Axes>"
      ]
     },
     "metadata": {},
     "output_type": "display_data"
    }
   ],
   "source": [
    "_, axes = plt.subplots(nrows=1, ncols=4, figsize=(10, 3))\n",
    "for ax, image, label in zip(axes, digits.images, digits.target):\n",
    "    ax.set_axis_off()\n",
    "    ax.imshow(image,\n",
    "              cmap=plt.cm.gray_r,\n",
    "              interpolation=\"nearest\",\n",
    "              vmin=0, vmax=16)\n",
    "    ax.set_title(\"Training: %i\" % label)"
   ]
  },
  {
   "cell_type": "markdown",
   "metadata": {
    "id": "DJfGaPw3kFbo"
   },
   "source": [
    "## Step 6: Train the Autoencoder\n",
    "\n",
    "We will train the autoencoder using the training data and evaluate it using the test data.\n",
    "\n",
    "### Concept:\n",
    "Training involves feeding the data through the autoencoder, computing the loss, and updating the model parameters to minimize this loss. We also evaluate the model on test data to monitor its performance.\n",
    "\n",
    "Learn more about [Backpropagation on Wikipedia](https://en.wikipedia.org/wiki/Backpropagation)."
   ]
  },
  {
   "cell_type": "code",
   "execution_count": 86,
   "metadata": {
    "colab": {
     "base_uri": "https://localhost:8080/",
     "height": 49,
     "referenced_widgets": [
      "4cb088264cf848d2bcf42954fc05daf4",
      "2ac335a141634b44b6cb2af85164f128",
      "4966aefc5f884bb1aaab45cf5998bae8",
      "4dd0d9e7649a46f3977c32d5f05485cf",
      "fd2e5ff7f2d64c79ad8cbba4a5a822df",
      "05dcc662fad945e4a72d97c4cf8c1d62",
      "76f0f21939cb48f9bbd9cab4b16af472",
      "3397244638874df2a52764986e648812",
      "1378a29fe2754c08a51352879fab0218",
      "f149d037d80042309aaaa8c91d99099c",
      "d05501e8ba6741f6a12696a250d6598e"
     ]
    },
    "id": "1j0WMw71kSA4",
    "outputId": "695e2e30-78b0-414d-f0a0-4840b012a64b"
   },
   "outputs": [
    {
     "data": {
      "application/vnd.jupyter.widget-view+json": {
       "model_id": "34bb352709de413e95329d2d02f7ee9c",
       "version_major": 2,
       "version_minor": 0
      },
      "text/plain": [
       "  0%|          | 0/1000 [00:00<?, ?it/s]"
      ]
     },
     "metadata": {},
     "output_type": "display_data"
    }
   ],
   "source": [
    "from tqdm.notebook import tqdm\n",
    "import matplotlib.pyplot as plt\n",
    "\n",
    "# Initialize model and training state\n",
    "rng = random.PRNGKey(0)\n",
    "model = hk.transform(lambda x: Autoencoder([128, 64, 64, 64], [64, 64, 64, 128, data.shape[1]])(x))\n",
    "params, opt_state, tx = create_train_state(rng, model, learning_rate=0.001, input_shape=(data.shape[1],))\n",
    "\n",
    "# Training loop\n",
    "num_epochs = 1000\n",
    "batch_size = 32\n",
    "train_losses = []\n",
    "test_losses = []\n",
    "\n",
    "for epoch in tqdm(range(num_epochs)):\n",
    "    for i in range(0, len(train_data), batch_size):\n",
    "        batch = train_data[i:i + batch_size]\n",
    "        params, opt_state, train_loss, rng = update(params, opt_state, rng, batch)\n",
    "\n",
    "    rng, new_rng = random.split(rng)\n",
    "    test_loss = compute_loss(params, new_rng, test_data)\n",
    "    train_losses.append(train_loss)\n",
    "    test_losses.append(test_loss)"
   ]
  },
  {
   "cell_type": "markdown",
   "metadata": {
    "id": "smktgI-AkVHX"
   },
   "source": [
    "### Explanation:\n",
    "1. **Initialize Model and Training State**:\n",
    "    - We create a random key `rng` and initialize the autoencoder model with specified encoder and decoder layers.\n",
    "    - We create the initial training state using the `create_train_state` function.\n",
    "\n",
    "2. **Training Loop**:\n",
    "    - We specify the number of epochs (`num_epochs`) and batch size (`batch_size`).\n",
    "    - We initialize lists to store the training and validation losses.\n",
    "\n",
    "3. **Epoch Loop**:\n",
    "    - We use `tqdm` to create a progress bar for the training loop.\n",
    "    - For each epoch, we iterate over the training data in batches, updating the model parameters using the `update` function.\n",
    "    - After processing all batches in an epoch, we compute the validation loss using `compute_loss` and store the losses.\n",
    "\n",
    "## Step 7: Plot the Training and Validation Losses\n",
    "\n",
    "After training the autoencoder, we can visualize the training and validation losses over epochs to understand how well the model is learning.\n",
    "\n",
    "### Concept:\n",
    "Plotting the losses helps us monitor the training process and detect issues like overfitting, where the model performs well on training data but poorly on test data.\n",
    "\n",
    "Learn more about [Loss Functions and Training on Wikipedia](https://en.wikipedia.org/wiki/Loss_function)."
   ]
  },
  {
   "cell_type": "code",
   "execution_count": 6,
   "metadata": {
    "colab": {
     "base_uri": "https://localhost:8080/",
     "height": 487
    },
    "id": "yctjZVvikZ5n",
    "outputId": "efea1e6b-35d1-44f2-82fa-eaefbef81ad3"
   },
   "outputs": [
    {
     "data": {
      "image/png": "[encoded data removed]",
      "text/plain": [
       "<Figure size 1000x500 with 1 Axes>"
      ]
     },
     "metadata": {},
     "output_type": "display_data"
    }
   ],
   "source": [
    "plt.figure(figsize=(10, 5))\n",
    "plt.plot(train_losses, label='Train Loss')\n",
    "plt.plot(test_losses, label='Test Loss')\n",
    "plt.xlabel('Epochs')\n",
    "plt.ylabel('Loss')\n",
    "plt.legend()\n",
    "plt.title('Training and Validation Losses')\n",
    "#plt.yscale('log')\n",
    "plt.show()"
   ]
  },
  {
   "cell_type": "markdown",
   "metadata": {
    "id": "Uw798314iiRf"
   },
   "source": [
    "### Explanation:\n",
    "1. **Plotting**:\n",
    "    - We use Matplotlib to create a plot of the training and validation losses over epochs.\n",
    "    - We label the x-axis as 'Epochs' and the y-axis as 'Loss'.\n",
    "    - We add a legend to distinguish between training and validation losses.\n",
    "    - We set the title of the plot to 'Training and Validation Losses'.\n",
    "    - Finally, we displayed the plot.\n",
    "    \n",
    "## Step 8: Check the prediction\n",
    "\n",
    "We can compare the image input and output.\n",
    "\n",
    "### Concept:\n",
    "If the network has learned what a number looks like, then the input and outputs should look similar.\n",
    "\n",
    "Learn more about [XX on Wikipedia](https://en.wikipedia.org/wiki/XX)."
   ]
  },
  {
   "cell_type": "code",
   "execution_count": 183,
   "metadata": {
    "tags": []
   },
   "outputs": [
    {
     "data": {
      "image/png": "[encoded data removed]",
      "text/plain": [
       "<Figure size 1000x300 with 8 Axes>"
      ]
     },
     "metadata": {},
     "output_type": "display_data"
    }
   ],
   "source": [
    "_, axes = plt.subplots(nrows=2, ncols=4, figsize=(10, 3))\n",
    "predicted_data, _ = model.apply(params, rng, test_data)\n",
    "for i in range(4):\n",
    "    axes[0][i].set_axis_off()\n",
    "    axes[0][i].imshow(test_data[i].reshape(8, 8),\n",
    "                      cmap=plt.cm.gray_r, interpolation=\"nearest\")\n",
    "    \n",
    "    axes[1][i].set_axis_off()\n",
    "    axes[1][i].imshow(predicted_data[i].reshape(8, 8),\n",
    "                      cmap=plt.cm.gray_r, interpolation=\"nearest\")\n",
    "axes[0][0].set_title('Input')\n",
    "_= axes[1][0].set_title('Output')"
   ]
  },
  {
   "cell_type": "markdown",
   "metadata": {
    "tags": []
   },
   "source": [
    "### Explanation:\n",
    "1. They look alike.\n",
    "    \n",
    "## Step 9: Anomaly detection\n",
    "\n",
    "We can make an anomaly detector to learn if bad data as the network prediction will be illdefined and different from the input.\n",
    "\n",
    "### Concept:\n",
    "This is a way to find bad data.\n",
    "\n",
    "Learn more about [XX on Wikipedia](https://en.wikipedia.org/wiki/XX)."
   ]
  },
  {
   "cell_type": "code",
   "execution_count": 189,
   "metadata": {
    "tags": []
   },
   "outputs": [],
   "source": [
    "bad_data = test_data.copy()\n",
    "bad_data[0] = jax.random.randint(rng, shape=(64,), minval=0, maxval=16)\n",
    "bad_data[1] = bad_data[1].reshape(8, 8).T.reshape(64)\n",
    "bad_data[2] = bad_data[2].reshape(8, 8).T.reshape(64)\n",
    "bad_data[3] = 16 * jnp.ones(64)"
   ]
  },
  {
   "cell_type": "code",
   "execution_count": 190,
   "metadata": {
    "tags": []
   },
   "outputs": [
    {
     "data": {
      "image/png": "[encoded data removed]",
      "text/plain": [
       "<Figure size 1000x300 with 8 Axes>"
      ]
     },
     "metadata": {},
     "output_type": "display_data"
    }
   ],
   "source": [
    "_, axes = plt.subplots(nrows=2, ncols=4, figsize=(10, 3))\n",
    "predicted_bad_data, _ = model.apply(params, rng, bad_data)\n",
    "for i in range(4):\n",
    "    axes[0][i].set_axis_off()\n",
    "    axes[0][i].imshow(bad_data[i].reshape(8, 8),\n",
    "                      cmap=plt.cm.gray_r, interpolation=\"nearest\")\n",
    "    \n",
    "    axes[1][i].set_axis_off()\n",
    "    axes[1][i].imshow(predicted_bad_data[i].reshape(8, 8),\n",
    "                      cmap=plt.cm.gray_r, interpolation=\"nearest\")\n",
    "axes[0][0].set_title('Input')\n",
    "_= axes[1][0].set_title('Output')"
   ]
  },
  {
   "cell_type": "code",
   "execution_count": 191,
   "metadata": {
    "tags": []
   },
   "outputs": [
    {
     "name": "stdout",
     "output_type": "stream",
     "text": [
      "The loss is: 7.135401725769043\n"
     ]
    }
   ],
   "source": [
    "print(f'The loss is: {compute_loss(params, new_rng, bad_data)}')"
   ]
  },
  {
   "cell_type": "markdown",
   "metadata": {
    "tags": []
   },
   "source": [
    "This loss is higher than the loss we see above, indicating anomalous data."
   ]
  },
  {
   "cell_type": "markdown",
   "metadata": {},
   "source": [
    "## End"
   ]
  },
  {
   "cell_type": "code",
   "execution_count": 120,
   "metadata": {
    "tags": []
   },
   "outputs": [
    {
     "data": {
      "text/plain": [
       "(Array([[-8.94270837e-04,  6.63028836e-01,  5.27374029e+00,\n",
       "          1.24272223e+01,  1.24554739e+01,  4.90373135e+00,\n",
       "         -1.24579084e+00, -7.49085426e-01, -4.84601930e-02,\n",
       "          1.64811277e+00,  1.06121016e+01,  1.58493290e+01,\n",
       "          1.07854223e+01,  4.58792305e+00,  6.85023546e-01,\n",
       "         -1.39780119e-01,  1.68298408e-01,  6.93191004e+00,\n",
       "          1.87818451e+01,  1.66717796e+01,  4.85504723e+00,\n",
       "         -1.06605542e+00,  3.43129635e-01,  9.25020128e-03,\n",
       "          1.18351594e-01,  6.82111216e+00,  1.45847874e+01,\n",
       "          1.30521860e+01,  1.42896235e+00,  9.12422836e-02,\n",
       "         -7.32950270e-01, -5.28786331e-03,  1.02825835e-03,\n",
       "          3.17286086e+00,  9.10010147e+00,  1.03284969e+01,\n",
       "          4.55094910e+00,  1.10799789e+00,  5.31669557e-01,\n",
       "          3.31311114e-03, -2.64601372e-02,  2.33919048e+00,\n",
       "          7.39658403e+00,  1.42544365e+01,  1.09911442e+01,\n",
       "          5.79209447e-01, -1.20739579e-01, -4.08333838e-02,\n",
       "          5.73011115e-02,  2.21655679e+00,  5.60767078e+00,\n",
       "          1.40950298e+01,  1.32469788e+01,  7.56477058e-01,\n",
       "         -9.96326923e-01, -5.35958290e-01, -1.37975747e-02,\n",
       "          1.01206017e+00,  3.93906498e+00,  1.28383093e+01,\n",
       "          1.29311810e+01,  2.35220999e-01, -6.62549436e-01,\n",
       "          9.65311289e-01]], dtype=float32),\n",
       " Array([[-0.9991871 , -0.7568563 , -0.99999374,  0.99989456, -0.98982936,\n",
       "         -0.3069345 ,  0.32237747,  0.3354643 ,  0.8432982 , -0.98021984,\n",
       "         -0.9917237 , -0.96206313, -0.9959725 , -0.9999341 ,  0.99460703,\n",
       "          0.9985955 , -0.6924823 , -0.35763603,  0.5820318 ,  0.99824274,\n",
       "          0.09637132, -0.9147647 ,  0.13077843,  0.966068  , -0.5760288 ,\n",
       "         -0.61343575,  0.9284519 ,  0.99728173, -0.995179  ,  0.9975681 ,\n",
       "         -0.8866048 , -0.99973804, -0.99207467, -0.89138144,  0.9995972 ,\n",
       "          0.9964198 ,  0.9989592 ,  0.07825644,  0.1072764 , -0.7154901 ,\n",
       "         -0.9834239 , -0.93702143,  0.9883236 , -0.9980855 ,  0.9965219 ,\n",
       "         -0.9989374 , -0.95075816, -0.90524584, -0.05063687,  1.        ,\n",
       "          0.9999013 , -0.9999997 ,  0.9994997 ,  0.97996885,  0.59800917,\n",
       "         -0.47336903,  0.99113774, -0.99915266, -0.9477323 , -0.98989904,\n",
       "          0.99955577,  0.99697024,  0.78575313,  0.99934024]],      dtype=float32))"
      ]
     },
     "execution_count": 120,
     "metadata": {},
     "output_type": "execute_result"
    }
   ],
   "source": [
    "model.apply(params, rng, predicted_data[1].reshape(8, 8).T.reshape(1, -1))"
   ]
  },
  {
   "cell_type": "code",
   "execution_count": null,
   "metadata": {},
   "outputs": [],
   "source": []
  },
  {
   "cell_type": "code",
   "execution_count": null,
   "metadata": {},
   "outputs": [],
   "source": [
    "model.apply(params, rng, batch)"
   ]
  },
  {
   "cell_type": "code",
   "execution_count": 44,
   "metadata": {
    "id": "gnwdgyDBke4J",
    "tags": []
   },
   "outputs": [
    {
     "data": {
      "text/html": [
       "<div>\n",
       "<style scoped>\n",
       "    .dataframe tbody tr th:only-of-type {\n",
       "        vertical-align: middle;\n",
       "    }\n",
       "\n",
       "    .dataframe tbody tr th {\n",
       "        vertical-align: top;\n",
       "    }\n",
       "\n",
       "    .dataframe thead th {\n",
       "        text-align: right;\n",
       "    }\n",
       "</style>\n",
       "<table border=\"1\" class=\"dataframe\">\n",
       "  <thead>\n",
       "    <tr style=\"text-align: right;\">\n",
       "      <th></th>\n",
       "      <th>label</th>\n",
       "      <th>met_et</th>\n",
       "      <th>met_phi</th>\n",
       "      <th>lep_n</th>\n",
       "      <th>lep_pt_0</th>\n",
       "      <th>lep_pt_1</th>\n",
       "      <th>lep_eta_0</th>\n",
       "      <th>lep_eta_1</th>\n",
       "      <th>lep_phi_0</th>\n",
       "      <th>lep_phi_1</th>\n",
       "      <th>...</th>\n",
       "      <th>jet_n</th>\n",
       "      <th>jet_pt_0</th>\n",
       "      <th>jet_pt_1</th>\n",
       "      <th>jet_eta_0</th>\n",
       "      <th>jet_eta_1</th>\n",
       "      <th>jet_phi_0</th>\n",
       "      <th>jet_phi_1</th>\n",
       "      <th>jet_E_0</th>\n",
       "      <th>jet_E_1</th>\n",
       "      <th>runNumber</th>\n",
       "    </tr>\n",
       "  </thead>\n",
       "  <tbody>\n",
       "    <tr>\n",
       "      <th>0</th>\n",
       "      <td>1</td>\n",
       "      <td>25.118</td>\n",
       "      <td>1.14010</td>\n",
       "      <td>2</td>\n",
       "      <td>46.439</td>\n",
       "      <td>44.589</td>\n",
       "      <td>0.131030</td>\n",
       "      <td>0.40654</td>\n",
       "      <td>2.34760</td>\n",
       "      <td>-2.41510</td>\n",
       "      <td>...</td>\n",
       "      <td>1</td>\n",
       "      <td>53.680</td>\n",
       "      <td>-7.000</td>\n",
       "      <td>2.4346</td>\n",
       "      <td>-7.00000</td>\n",
       "      <td>-0.76667</td>\n",
       "      <td>-7.00000</td>\n",
       "      <td>308720.0</td>\n",
       "      <td>-7.0</td>\n",
       "      <td>284500</td>\n",
       "    </tr>\n",
       "    <tr>\n",
       "      <th>1</th>\n",
       "      <td>1</td>\n",
       "      <td>27.974</td>\n",
       "      <td>0.84442</td>\n",
       "      <td>2</td>\n",
       "      <td>86.819</td>\n",
       "      <td>55.438</td>\n",
       "      <td>-0.017265</td>\n",
       "      <td>-0.16338</td>\n",
       "      <td>-1.44520</td>\n",
       "      <td>-1.72950</td>\n",
       "      <td>...</td>\n",
       "      <td>1</td>\n",
       "      <td>126.700</td>\n",
       "      <td>-7.000</td>\n",
       "      <td>-1.2789</td>\n",
       "      <td>-7.00000</td>\n",
       "      <td>1.66290</td>\n",
       "      <td>-7.00000</td>\n",
       "      <td>245670.0</td>\n",
       "      <td>-7.0</td>\n",
       "      <td>284500</td>\n",
       "    </tr>\n",
       "    <tr>\n",
       "      <th>2</th>\n",
       "      <td>0</td>\n",
       "      <td>123.290</td>\n",
       "      <td>-2.94810</td>\n",
       "      <td>2</td>\n",
       "      <td>105.810</td>\n",
       "      <td>40.506</td>\n",
       "      <td>-1.338900</td>\n",
       "      <td>-1.03500</td>\n",
       "      <td>0.68539</td>\n",
       "      <td>-0.90527</td>\n",
       "      <td>...</td>\n",
       "      <td>0</td>\n",
       "      <td>-7.000</td>\n",
       "      <td>-7.000</td>\n",
       "      <td>-7.0000</td>\n",
       "      <td>-7.00000</td>\n",
       "      <td>-7.00000</td>\n",
       "      <td>-7.00000</td>\n",
       "      <td>-7.0</td>\n",
       "      <td>-7.0</td>\n",
       "      <td>284500</td>\n",
       "    </tr>\n",
       "    <tr>\n",
       "      <th>3</th>\n",
       "      <td>0</td>\n",
       "      <td>78.558</td>\n",
       "      <td>1.04450</td>\n",
       "      <td>2</td>\n",
       "      <td>56.666</td>\n",
       "      <td>35.124</td>\n",
       "      <td>2.294600</td>\n",
       "      <td>1.88700</td>\n",
       "      <td>2.13110</td>\n",
       "      <td>-2.83820</td>\n",
       "      <td>...</td>\n",
       "      <td>2</td>\n",
       "      <td>79.799</td>\n",
       "      <td>53.942</td>\n",
       "      <td>1.6270</td>\n",
       "      <td>0.55314</td>\n",
       "      <td>-1.84880</td>\n",
       "      <td>-0.47055</td>\n",
       "      <td>211610.0</td>\n",
       "      <td>63629.0</td>\n",
       "      <td>284500</td>\n",
       "    </tr>\n",
       "    <tr>\n",
       "      <th>4</th>\n",
       "      <td>0</td>\n",
       "      <td>15.863</td>\n",
       "      <td>0.74840</td>\n",
       "      <td>2</td>\n",
       "      <td>94.708</td>\n",
       "      <td>72.811</td>\n",
       "      <td>0.812740</td>\n",
       "      <td>0.77954</td>\n",
       "      <td>1.84940</td>\n",
       "      <td>0.45967</td>\n",
       "      <td>...</td>\n",
       "      <td>1</td>\n",
       "      <td>143.180</td>\n",
       "      <td>-7.000</td>\n",
       "      <td>-0.6358</td>\n",
       "      <td>-7.00000</td>\n",
       "      <td>-1.91230</td>\n",
       "      <td>-7.00000</td>\n",
       "      <td>173810.0</td>\n",
       "      <td>-7.0</td>\n",
       "      <td>284500</td>\n",
       "    </tr>\n",
       "  </tbody>\n",
       "</table>\n",
       "<p>5 rows × 26 columns</p>\n",
       "</div>"
      ],
      "text/plain": [
       "   label   met_et  met_phi  lep_n  lep_pt_0  lep_pt_1  lep_eta_0  lep_eta_1  \\\n",
       "0      1   25.118  1.14010      2    46.439    44.589   0.131030    0.40654   \n",
       "1      1   27.974  0.84442      2    86.819    55.438  -0.017265   -0.16338   \n",
       "2      0  123.290 -2.94810      2   105.810    40.506  -1.338900   -1.03500   \n",
       "3      0   78.558  1.04450      2    56.666    35.124   2.294600    1.88700   \n",
       "4      0   15.863  0.74840      2    94.708    72.811   0.812740    0.77954   \n",
       "\n",
       "   lep_phi_0  lep_phi_1  ...  jet_n  jet_pt_0  jet_pt_1  jet_eta_0  jet_eta_1  \\\n",
       "0    2.34760   -2.41510  ...      1    53.680    -7.000     2.4346   -7.00000   \n",
       "1   -1.44520   -1.72950  ...      1   126.700    -7.000    -1.2789   -7.00000   \n",
       "2    0.68539   -0.90527  ...      0    -7.000    -7.000    -7.0000   -7.00000   \n",
       "3    2.13110   -2.83820  ...      2    79.799    53.942     1.6270    0.55314   \n",
       "4    1.84940    0.45967  ...      1   143.180    -7.000    -0.6358   -7.00000   \n",
       "\n",
       "   jet_phi_0  jet_phi_1   jet_E_0  jet_E_1  runNumber  \n",
       "0   -0.76667   -7.00000  308720.0     -7.0     284500  \n",
       "1    1.66290   -7.00000  245670.0     -7.0     284500  \n",
       "2   -7.00000   -7.00000      -7.0     -7.0     284500  \n",
       "3   -1.84880   -0.47055  211610.0  63629.0     284500  \n",
       "4   -1.91230   -7.00000  173810.0     -7.0     284500  \n",
       "\n",
       "[5 rows x 26 columns]"
      ]
     },
     "execution_count": 44,
     "metadata": {},
     "output_type": "execute_result"
    }
   ],
   "source": [
    "from extra_functions import load_training_file\n",
    "all_data = load_training_file()\n",
    "df = all_data.loc[:,(\"met_et\",\"met_phi\",\"lep_pt_0\",\"lep_pt_1\",'lep_phi_0', 'lep_phi_1')]\n",
    "del all_data['index']\n",
    "del all_data['eventNumber']\n",
    "del all_data['mcWeight']\n",
    "del all_data['channelNumber']\n",
    "all_data.head()"
   ]
  },
  {
   "cell_type": "code",
   "execution_count": 45,
   "metadata": {
    "tags": []
   },
   "outputs": [],
   "source": [
    "data = all_data.to_numpy()\n",
    "#scaler = StandardScaler()\n",
    "#data = scaler.fit_transform(data)\n",
    "\n",
    "# Split the data into training and testing sets\n",
    "train_data, test_data = train_test_split(data,\n",
    "                                         test_size=0.2,\n",
    "                                         random_state=42)\n",
    "                                    "
   ]
  },
  {
   "cell_type": "code",
   "execution_count": 46,
   "metadata": {
    "tags": []
   },
   "outputs": [
    {
     "data": {
      "text/plain": [
       "(577357, 26)"
      ]
     },
     "execution_count": 46,
     "metadata": {},
     "output_type": "execute_result"
    }
   ],
   "source": [
    "data.shape"
   ]
  },
  {
   "cell_type": "code",
   "execution_count": 48,
   "metadata": {
    "tags": []
   },
   "outputs": [],
   "source": [
    "rng = random.PRNGKey(0)\n",
    "model = hk.transform(lambda x: Autoencoder([256, 128, 64, 64, 64],\n",
    "                                           [64, 64, 64, 128, 256,\n",
    "                                            data.shape[1]])(x))\n",
    "\n",
    "params, opt_state, tx = create_train_state(rng,\n",
    "                                           model,\n",
    "                                           learning_rate=0.001,\n",
    "                                           input_shape=(data.shape[1],))"
   ]
  },
  {
   "cell_type": "code",
   "execution_count": 49,
   "metadata": {
    "tags": []
   },
   "outputs": [
    {
     "data": {
      "application/vnd.jupyter.widget-view+json": {
       "model_id": "f07e1800b8fb42ba9a117b9a070a69e8",
       "version_major": 2,
       "version_minor": 0
      },
      "text/plain": [
       "  0%|          | 0/10 [00:00<?, ?it/s]"
      ]
     },
     "metadata": {},
     "output_type": "display_data"
    }
   ],
   "source": [
    "# Training loop\n",
    "num_epochs = 10\n",
    "batch_size = 1024\n",
    "train_losses = []\n",
    "test_losses = []\n",
    "\n",
    "for epoch in tqdm(range(num_epochs)):\n",
    "    for i in range(0, len(train_data), batch_size):\n",
    "        batch = train_data[i:i + batch_size]\n",
    "        params, opt_state, train_loss, rng = update(params, opt_state, rng, batch)\n",
    "\n",
    "    rng, new_rng = random.split(rng)\n",
    "    test_loss = compute_loss(params, new_rng, test_data)\n",
    "    train_losses.append(train_loss)\n",
    "    test_losses.append(test_loss)"
   ]
  },
  {
   "cell_type": "code",
   "execution_count": 35,
   "metadata": {
    "tags": []
   },
   "outputs": [
    {
     "data": {
      "image/png": "[encoded data removed]",
      "text/plain": [
       "<Figure size 1000x500 with 1 Axes>"
      ]
     },
     "metadata": {},
     "output_type": "display_data"
    }
   ],
   "source": [
    "plt.figure(figsize=(10, 5))\n",
    "plt.plot(train_losses, label='Train Loss')\n",
    "plt.plot(test_losses, label='Test Loss')\n",
    "plt.xlabel('Epochs')\n",
    "plt.ylabel('Loss')\n",
    "plt.legend()\n",
    "plt.title('Training and Validation Losses')\n",
    "#plt.yscale('log')\n",
    "plt.show()"
   ]
  },
  {
   "cell_type": "code",
   "execution_count": 21,
   "metadata": {
    "tags": []
   },
   "outputs": [
    {
     "ename": "AttributeError",
     "evalue": "'numpy.ndarray' object has no attribute 'head'",
     "output_type": "error",
     "traceback": [
      "\u001b[0;31m---------------------------------------------------------------------------\u001b[0m",
      "\u001b[0;31mAttributeError\u001b[0m                            Traceback (most recent call last)",
      "Cell \u001b[0;32mIn[21], line 1\u001b[0m\n\u001b[0;32m----> 1\u001b[0m \u001b[43mdata\u001b[49m\u001b[38;5;241;43m.\u001b[39;49m\u001b[43mhead\u001b[49m()\n",
      "\u001b[0;31mAttributeError\u001b[0m: 'numpy.ndarray' object has no attribute 'head'"
     ]
    }
   ],
   "source": [
    "data[:,2]"
   ]
  },
  {
   "cell_type": "code",
   "execution_count": 38,
   "metadata": {
    "tags": []
   },
   "outputs": [
    {
     "data": {
      "text/html": [
       "<div>\n",
       "<style scoped>\n",
       "    .dataframe tbody tr th:only-of-type {\n",
       "        vertical-align: middle;\n",
       "    }\n",
       "\n",
       "    .dataframe tbody tr th {\n",
       "        vertical-align: top;\n",
       "    }\n",
       "\n",
       "    .dataframe thead th {\n",
       "        text-align: right;\n",
       "    }\n",
       "</style>\n",
       "<table border=\"1\" class=\"dataframe\">\n",
       "  <thead>\n",
       "    <tr style=\"text-align: right;\">\n",
       "      <th></th>\n",
       "      <th>met_et</th>\n",
       "      <th>met_phi</th>\n",
       "      <th>lep_pt_0</th>\n",
       "      <th>lep_pt_1</th>\n",
       "      <th>lep_phi_0</th>\n",
       "      <th>lep_phi_1</th>\n",
       "    </tr>\n",
       "  </thead>\n",
       "  <tbody>\n",
       "    <tr>\n",
       "      <th>0</th>\n",
       "      <td>25.118</td>\n",
       "      <td>1.14010</td>\n",
       "      <td>46.439</td>\n",
       "      <td>44.589</td>\n",
       "      <td>2.34760</td>\n",
       "      <td>-2.41510</td>\n",
       "    </tr>\n",
       "    <tr>\n",
       "      <th>1</th>\n",
       "      <td>27.974</td>\n",
       "      <td>0.84442</td>\n",
       "      <td>86.819</td>\n",
       "      <td>55.438</td>\n",
       "      <td>-1.44520</td>\n",
       "      <td>-1.72950</td>\n",
       "    </tr>\n",
       "    <tr>\n",
       "      <th>2</th>\n",
       "      <td>123.290</td>\n",
       "      <td>-2.94810</td>\n",
       "      <td>105.810</td>\n",
       "      <td>40.506</td>\n",
       "      <td>0.68539</td>\n",
       "      <td>-0.90527</td>\n",
       "    </tr>\n",
       "    <tr>\n",
       "      <th>3</th>\n",
       "      <td>78.558</td>\n",
       "      <td>1.04450</td>\n",
       "      <td>56.666</td>\n",
       "      <td>35.124</td>\n",
       "      <td>2.13110</td>\n",
       "      <td>-2.83820</td>\n",
       "    </tr>\n",
       "    <tr>\n",
       "      <th>4</th>\n",
       "      <td>15.863</td>\n",
       "      <td>0.74840</td>\n",
       "      <td>94.708</td>\n",
       "      <td>72.811</td>\n",
       "      <td>1.84940</td>\n",
       "      <td>0.45967</td>\n",
       "    </tr>\n",
       "    <tr>\n",
       "      <th>...</th>\n",
       "      <td>...</td>\n",
       "      <td>...</td>\n",
       "      <td>...</td>\n",
       "      <td>...</td>\n",
       "      <td>...</td>\n",
       "      <td>...</td>\n",
       "    </tr>\n",
       "    <tr>\n",
       "      <th>599995</th>\n",
       "      <td>19.512</td>\n",
       "      <td>2.31050</td>\n",
       "      <td>100.870</td>\n",
       "      <td>20.946</td>\n",
       "      <td>2.83090</td>\n",
       "      <td>2.52390</td>\n",
       "    </tr>\n",
       "    <tr>\n",
       "      <th>599996</th>\n",
       "      <td>71.597</td>\n",
       "      <td>-2.28590</td>\n",
       "      <td>46.587</td>\n",
       "      <td>31.701</td>\n",
       "      <td>1.12190</td>\n",
       "      <td>-0.69539</td>\n",
       "    </tr>\n",
       "    <tr>\n",
       "      <th>599997</th>\n",
       "      <td>88.197</td>\n",
       "      <td>2.50020</td>\n",
       "      <td>28.382</td>\n",
       "      <td>10.896</td>\n",
       "      <td>-1.29080</td>\n",
       "      <td>-2.76090</td>\n",
       "    </tr>\n",
       "    <tr>\n",
       "      <th>599998</th>\n",
       "      <td>21.346</td>\n",
       "      <td>2.00330</td>\n",
       "      <td>47.876</td>\n",
       "      <td>10.330</td>\n",
       "      <td>-0.66946</td>\n",
       "      <td>0.24240</td>\n",
       "    </tr>\n",
       "    <tr>\n",
       "      <th>599999</th>\n",
       "      <td>111.870</td>\n",
       "      <td>1.89190</td>\n",
       "      <td>40.676</td>\n",
       "      <td>27.648</td>\n",
       "      <td>1.25360</td>\n",
       "      <td>2.57520</td>\n",
       "    </tr>\n",
       "  </tbody>\n",
       "</table>\n",
       "<p>577357 rows × 6 columns</p>\n",
       "</div>"
      ],
      "text/plain": [
       "         met_et  met_phi  lep_pt_0  lep_pt_1  lep_phi_0  lep_phi_1\n",
       "0        25.118  1.14010    46.439    44.589    2.34760   -2.41510\n",
       "1        27.974  0.84442    86.819    55.438   -1.44520   -1.72950\n",
       "2       123.290 -2.94810   105.810    40.506    0.68539   -0.90527\n",
       "3        78.558  1.04450    56.666    35.124    2.13110   -2.83820\n",
       "4        15.863  0.74840    94.708    72.811    1.84940    0.45967\n",
       "...         ...      ...       ...       ...        ...        ...\n",
       "599995   19.512  2.31050   100.870    20.946    2.83090    2.52390\n",
       "599996   71.597 -2.28590    46.587    31.701    1.12190   -0.69539\n",
       "599997   88.197  2.50020    28.382    10.896   -1.29080   -2.76090\n",
       "599998   21.346  2.00330    47.876    10.330   -0.66946    0.24240\n",
       "599999  111.870  1.89190    40.676    27.648    1.25360    2.57520\n",
       "\n",
       "[577357 rows x 6 columns]"
      ]
     },
     "execution_count": 38,
     "metadata": {},
     "output_type": "execute_result"
    }
   ],
   "source": [
    "df"
   ]
  },
  {
   "cell_type": "code",
   "execution_count": null,
   "metadata": {},
   "outputs": [],
   "source": []
  }
 ],
 "metadata": {
  "colab": {
   "provenance": []
  },
  "kernelspec": {
   "display_name": "Python 3 (ipykernel)",
   "language": "python",
   "name": "python3"
  },
  "language_info": {
   "codemirror_mode": {
    "name": "ipython",
    "version": 3
   },
   "file_extension": ".py",
   "mimetype": "text/x-python",
   "name": "python",
   "nbconvert_exporter": "python",
   "pygments_lexer": "ipython3",
   "version": "3.10.12"
  },
  "widgets": {
   "application/vnd.jupyter.widget-state+json": {
    "05dcc662fad945e4a72d97c4cf8c1d62": {
     "model_module": "@jupyter-widgets/base",
     "model_module_version": "1.2.0",
     "model_name": "LayoutModel",
     "state": {
      "_model_module": "@jupyter-widgets/base",
      "_model_module_version": "1.2.0",
      "_model_name": "LayoutModel",
      "_view_count": null,
      "_view_module": "@jupyter-widgets/base",
      "_view_module_version": "1.2.0",
      "_view_name": "LayoutView",
      "align_content": null,
      "align_items": null,
      "align_self": null,
      "border": null,
      "bottom": null,
      "display": null,
      "flex": null,
      "flex_flow": null,
      "grid_area": null,
      "grid_auto_columns": null,
      "grid_auto_flow": null,
      "grid_auto_rows": null,
      "grid_column": null,
      "grid_gap": null,
      "grid_row": null,
      "grid_template_areas": null,
      "grid_template_columns": null,
      "grid_template_rows": null,
      "height": null,
      "justify_content": null,
      "justify_items": null,
      "left": null,
      "margin": null,
      "max_height": null,
      "max_width": null,
      "min_height": null,
      "min_width": null,
      "object_fit": null,
      "object_position": null,
      "order": null,
      "overflow": null,
      "overflow_x": null,
      "overflow_y": null,
      "padding": null,
      "right": null,
      "top": null,
      "visibility": null,
      "width": null
     }
    },
    "1378a29fe2754c08a51352879fab0218": {
     "model_module": "@jupyter-widgets/controls",
     "model_module_version": "1.5.0",
     "model_name": "ProgressStyleModel",
     "state": {
      "_model_module": "@jupyter-widgets/controls",
      "_model_module_version": "1.5.0",
      "_model_name": "ProgressStyleModel",
      "_view_count": null,
      "_view_module": "@jupyter-widgets/base",
      "_view_module_version": "1.2.0",
      "_view_name": "StyleView",
      "bar_color": null,
      "description_width": ""
     }
    },
    "2ac335a141634b44b6cb2af85164f128": {
     "model_module": "@jupyter-widgets/controls",
     "model_module_version": "1.5.0",
     "model_name": "HTMLModel",
     "state": {
      "_dom_classes": [],
      "_model_module": "@jupyter-widgets/controls",
      "_model_module_version": "1.5.0",
      "_model_name": "HTMLModel",
      "_view_count": null,
      "_view_module": "@jupyter-widgets/controls",
      "_view_module_version": "1.5.0",
      "_view_name": "HTMLView",
      "description": "",
      "description_tooltip": null,
      "layout": "IPY_MODEL_05dcc662fad945e4a72d97c4cf8c1d62",
      "placeholder": "​",
      "style": "IPY_MODEL_76f0f21939cb48f9bbd9cab4b16af472",
      "value": "100%"
     }
    },
    "3397244638874df2a52764986e648812": {
     "model_module": "@jupyter-widgets/base",
     "model_module_version": "1.2.0",
     "model_name": "LayoutModel",
     "state": {
      "_model_module": "@jupyter-widgets/base",
      "_model_module_version": "1.2.0",
      "_model_name": "LayoutModel",
      "_view_count": null,
      "_view_module": "@jupyter-widgets/base",
      "_view_module_version": "1.2.0",
      "_view_name": "LayoutView",
      "align_content": null,
      "align_items": null,
      "align_self": null,
      "border": null,
      "bottom": null,
      "display": null,
      "flex": null,
      "flex_flow": null,
      "grid_area": null,
      "grid_auto_columns": null,
      "grid_auto_flow": null,
      "grid_auto_rows": null,
      "grid_column": null,
      "grid_gap": null,
      "grid_row": null,
      "grid_template_areas": null,
      "grid_template_columns": null,
      "grid_template_rows": null,
      "height": null,
      "justify_content": null,
      "justify_items": null,
      "left": null,
      "margin": null,
      "max_height": null,
      "max_width": null,
      "min_height": null,
      "min_width": null,
      "object_fit": null,
      "object_position": null,
      "order": null,
      "overflow": null,
      "overflow_x": null,
      "overflow_y": null,
      "padding": null,
      "right": null,
      "top": null,
      "visibility": null,
      "width": null
     }
    },
    "4966aefc5f884bb1aaab45cf5998bae8": {
     "model_module": "@jupyter-widgets/controls",
     "model_module_version": "1.5.0",
     "model_name": "FloatProgressModel",
     "state": {
      "_dom_classes": [],
      "_model_module": "@jupyter-widgets/controls",
      "_model_module_version": "1.5.0",
      "_model_name": "FloatProgressModel",
      "_view_count": null,
      "_view_module": "@jupyter-widgets/controls",
      "_view_module_version": "1.5.0",
      "_view_name": "ProgressView",
      "bar_style": "success",
      "description": "",
      "description_tooltip": null,
      "layout": "IPY_MODEL_3397244638874df2a52764986e648812",
      "max": 1000,
      "min": 0,
      "orientation": "horizontal",
      "style": "IPY_MODEL_1378a29fe2754c08a51352879fab0218",
      "value": 1000
     }
    },
    "4cb088264cf848d2bcf42954fc05daf4": {
     "model_module": "@jupyter-widgets/controls",
     "model_module_version": "1.5.0",
     "model_name": "HBoxModel",
     "state": {
      "_dom_classes": [],
      "_model_module": "@jupyter-widgets/controls",
      "_model_module_version": "1.5.0",
      "_model_name": "HBoxModel",
      "_view_count": null,
      "_view_module": "@jupyter-widgets/controls",
      "_view_module_version": "1.5.0",
      "_view_name": "HBoxView",
      "box_style": "",
      "children": [
       "IPY_MODEL_2ac335a141634b44b6cb2af85164f128",
       "IPY_MODEL_4966aefc5f884bb1aaab45cf5998bae8",
       "IPY_MODEL_4dd0d9e7649a46f3977c32d5f05485cf"
      ],
      "layout": "IPY_MODEL_fd2e5ff7f2d64c79ad8cbba4a5a822df"
     }
    },
    "4dd0d9e7649a46f3977c32d5f05485cf": {
     "model_module": "@jupyter-widgets/controls",
     "model_module_version": "1.5.0",
     "model_name": "HTMLModel",
     "state": {
      "_dom_classes": [],
      "_model_module": "@jupyter-widgets/controls",
      "_model_module_version": "1.5.0",
      "_model_name": "HTMLModel",
      "_view_count": null,
      "_view_module": "@jupyter-widgets/controls",
      "_view_module_version": "1.5.0",
      "_view_name": "HTMLView",
      "description": "",
      "description_tooltip": null,
      "layout": "IPY_MODEL_f149d037d80042309aaaa8c91d99099c",
      "placeholder": "​",
      "style": "IPY_MODEL_d05501e8ba6741f6a12696a250d6598e",
      "value": " 1000/1000 [00:29&lt;00:00, 23.96it/s]"
     }
    },
    "76f0f21939cb48f9bbd9cab4b16af472": {
     "model_module": "@jupyter-widgets/controls",
     "model_module_version": "1.5.0",
     "model_name": "DescriptionStyleModel",
     "state": {
      "_model_module": "@jupyter-widgets/controls",
      "_model_module_version": "1.5.0",
      "_model_name": "DescriptionStyleModel",
      "_view_count": null,
      "_view_module": "@jupyter-widgets/base",
      "_view_module_version": "1.2.0",
      "_view_name": "StyleView",
      "description_width": ""
     }
    },
    "d05501e8ba6741f6a12696a250d6598e": {
     "model_module": "@jupyter-widgets/controls",
     "model_module_version": "1.5.0",
     "model_name": "DescriptionStyleModel",
     "state": {
      "_model_module": "@jupyter-widgets/controls",
      "_model_module_version": "1.5.0",
      "_model_name": "DescriptionStyleModel",
      "_view_count": null,
      "_view_module": "@jupyter-widgets/base",
      "_view_module_version": "1.2.0",
      "_view_name": "StyleView",
      "description_width": ""
     }
    },
    "f149d037d80042309aaaa8c91d99099c": {
     "model_module": "@jupyter-widgets/base",
     "model_module_version": "1.2.0",
     "model_name": "LayoutModel",
     "state": {
      "_model_module": "@jupyter-widgets/base",
      "_model_module_version": "1.2.0",
      "_model_name": "LayoutModel",
      "_view_count": null,
      "_view_module": "@jupyter-widgets/base",
      "_view_module_version": "1.2.0",
      "_view_name": "LayoutView",
      "align_content": null,
      "align_items": null,
      "align_self": null,
      "border": null,
      "bottom": null,
      "display": null,
      "flex": null,
      "flex_flow": null,
      "grid_area": null,
      "grid_auto_columns": null,
      "grid_auto_flow": null,
      "grid_auto_rows": null,
      "grid_column": null,
      "grid_gap": null,
      "grid_row": null,
      "grid_template_areas": null,
      "grid_template_columns": null,
      "grid_template_rows": null,
      "height": null,
      "justify_content": null,
      "justify_items": null,
      "left": null,
      "margin": null,
      "max_height": null,
      "max_width": null,
      "min_height": null,
      "min_width": null,
      "object_fit": null,
      "object_position": null,
      "order": null,
      "overflow": null,
      "overflow_x": null,
      "overflow_y": null,
      "padding": null,
      "right": null,
      "top": null,
      "visibility": null,
      "width": null
     }
    },
    "fd2e5ff7f2d64c79ad8cbba4a5a822df": {
     "model_module": "@jupyter-widgets/base",
     "model_module_version": "1.2.0",
     "model_name": "LayoutModel",
     "state": {
      "_model_module": "@jupyter-widgets/base",
      "_model_module_version": "1.2.0",
      "_model_name": "LayoutModel",
      "_view_count": null,
      "_view_module": "@jupyter-widgets/base",
      "_view_module_version": "1.2.0",
      "_view_name": "LayoutView",
      "align_content": null,
      "align_items": null,
      "align_self": null,
      "border": null,
      "bottom": null,
      "display": null,
      "flex": null,
      "flex_flow": null,
      "grid_area": null,
      "grid_auto_columns": null,
      "grid_auto_flow": null,
      "grid_auto_rows": null,
      "grid_column": null,
      "grid_gap": null,
      "grid_row": null,
      "grid_template_areas": null,
      "grid_template_columns": null,
      "grid_template_rows": null,
      "height": null,
      "justify_content": null,
      "justify_items": null,
      "left": null,
      "margin": null,
      "max_height": null,
      "max_width": null,
      "min_height": null,
      "min_width": null,
      "object_fit": null,
      "object_position": null,
      "order": null,
      "overflow": null,
      "overflow_x": null,
      "overflow_y": null,
      "padding": null,
      "right": null,
      "top": null,
      "visibility": null,
      "width": null
     }
    }
   }
  }
 },
 "nbformat": 4,
 "nbformat_minor": 4
}
