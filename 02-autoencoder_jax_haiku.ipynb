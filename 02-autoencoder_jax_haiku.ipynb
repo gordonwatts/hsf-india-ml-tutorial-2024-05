{
 "cells": [
  {
   "cell_type": "markdown",
   "metadata": {
    "id": "0ykeW0bBijj_"
   },
   "source": [
    "# Building an Autoencoder with Haiku and JAX\n",
    "\n",
    "*Prof Christopher Tunnell, 20-May-2024, HSF-India, U. Delhi*\n",
    "\n",
    "This tutorial will guide you through the process of building an autoencoder using Haiku and JAX. The tutorial is designed for physics PhD students who may not have a deep understanding of programming or machine learning.\n",
    "\n",
    "## Step 1: Install and import Necessary Libraries\n",
    "\n",
    "These are pre-installed for this demo - but you can see them in the `requirements.txt` file that is next to this file.\n",
    "\n",
    "### Concept:\n",
    "We will use JAX for high-performance numerical computing, Haiku for building neural networks, Optax for optimization, and other supporting libraries.  (These should be installed.)"
   ]
  },
  {
   "cell_type": "code",
   "execution_count": 2,
   "metadata": {
    "tags": []
   },
   "outputs": [],
   "source": [
    "import haiku as hk\n",
    "\n",
    "import jax\n",
    "import jax.numpy as jnp\n",
    "from jax import random\n",
    "\n",
    "import optax\n",
    "\n",
    "from sklearn.datasets import load_digits\n",
    "from sklearn.model_selection import train_test_split\n",
    "\n",
    "from tqdm.notebook import tqdm\n",
    "\n",
    "import matplotlib.pyplot as plt"
   ]
  },
  {
   "cell_type": "markdown",
   "metadata": {
    "id": "4Kq0bdo-ijPH",
    "tags": []
   },
   "source": [
    "### Explanation:\n",
    "1. **Import Haiku (hk)**:\n",
    "    - Haiku is a neural network library developed by DeepMind.\n",
    "    - It allows for easy construction of neural network modules with a functional approach.\n",
    "    - Commonly used to define and train neural network architectures in a flexible and composable way.\n",
    "\n",
    "2. **Import JAX**:\n",
    "    - JAX is a library for high-performance numerical computing.\n",
    "    - It provides automatic differentiation, GPU/TPU support, and a functional programming model.\n",
    "    - Ideal for machine learning research and large-scale numerical experiments.\n",
    "\n",
    "3. **Import JAX's numpy module (jnp)**:\n",
    "    - `jax.numpy` (aliased as `jnp`) provides a NumPy-compatible interface.\n",
    "    - Allows for operations on tensors with support for JAX's just-in-time compilation and automatic differentiation.\n",
    "\n",
    "4. **Import random module from JAX**:\n",
    "    - Provides functions for generating random numbers and manipulating random states.\n",
    "    - Essential for initializing neural network weights and other stochastic processes in models.\n",
    "\n",
    "5. **Import Optax**:\n",
    "    - Optax is a gradient processing and optimization library for JAX.\n",
    "    - It offers a variety of optimization algorithms (like Adam, SGD) for training neural networks.\n",
    "    - Facilitates the implementation of complex training loops and gradient updates.\n",
    "\n",
    "6. **Import load_digits from sklearn.datasets**:\n",
    "    - `load_digits` is a utility function to load the digits dataset, a popular toy dataset in machine learning.\n",
    "    - Useful for testing algorithms and prototyping models.\n",
    "\n",
    "7. **Import train_test_split from sklearn.model_selection**:\n",
    "    - `train_test_split` is used to split data into training and testing sets.\n",
    "    - Helps evaluate the performance of machine learning models on unseen data.\n",
    "\n",
    "8. **Import tqdm notebook**:\n",
    "    - `tqdm` provides a fast, extensible progress bar for loops.\n",
    "    - The `notebook` variant integrates seamlessly with Jupyter Notebooks, providing a visual progress bar for iterative processes.\n",
    "\n",
    "9. **Import matplotlib.pyplot as plt**:\n",
    "    - `matplotlib.pyplot` is a plotting library for creating static, animated, and interactive visualizations in Python.\n",
    "    - Essential for visualizing data, model performance, and other results in scientific research.\n",
    "\n",
    "## Step 2: Define the Autoencoder Model\n",
    "\n",
    "An autoencoder is a type of neural network used to learn efficient representations of data, typically for the purpose of dimensionality reduction (incl. compression), feature learning, or anomaly detection. It consists of two main parts: the encoder and the decoder.  The input and output of the autoencoder are the same.\n",
    "\n",
    "![Autoencoder drawing](https://uvadlc-notebooks.readthedocs.io/en/latest/_images/autoencoder_visualization.svg)\n",
    "\n",
    "### Concept:\n",
    "The encoder compresses the input data into a smaller, latent space representation, and the decoder reconstructs the original data from this compressed representation.  The encoder compresses the input data into a lower-dimensional latent space representation, while the decoder reconstructs the input data from this compact representation.\n",
    "\n",
    "In particle physics, autoencoders can be particularly useful for anomaly detection in high-dimensional data, such as identifying rare events in large datasets from particle collisions. For instance, in a dataset of events recorded from a particle detector at the Large Hadron Collider, an autoencoder can be trained on known background events. When presented with new data, events that are poorly reconstructed by the autoencoder may indicate the presence of novel or rare physical phenomena, such as potential signals for new particles or interactions beyond the Standard Model.\n",
    "\n",
    "Learn more about [Autoencoders on Wikipedia](https://en.wikipedia.org/wiki/Autoencoder)."
   ]
  },
  {
   "cell_type": "code",
   "execution_count": 3,
   "metadata": {
    "id": "WonT0orPijIG",
    "tags": []
   },
   "outputs": [],
   "source": [
    "class Autoencoder(hk.Module):\n",
    "    def __init__(self, encoder_layers, decoder_layers):\n",
    "        super().__init__()\n",
    "        self.encoder_layers = encoder_layers\n",
    "        self.decoder_layers = decoder_layers\n",
    "\n",
    "    def __call__(self, x):\n",
    "        # Encoder\n",
    "        for units in self.encoder_layers:\n",
    "            x = hk.Linear(units)(x)\n",
    "            x = jax.nn.tanh(x)\n",
    "\n",
    "        # Latent space\n",
    "        latent = x\n",
    "\n",
    "        # Decoder\n",
    "        for units in self.decoder_layers[:-1]:\n",
    "            x = hk.Linear(units)(x)\n",
    "            x = jax.nn.tanh(x)\n",
    "\n",
    "        # Output layer\n",
    "        x = hk.Linear(self.decoder_layers[-1])(x)\n",
    "        return x, latent"
   ]
  },
  {
   "cell_type": "markdown",
   "metadata": {
    "id": "DyFlz5D3ijBD"
   },
   "source": [
    "### Explanation:\n",
    "1. **Encoder**:\n",
    "    - The encoder compresses the input data into a latent space.\n",
    "    - Each layer in the encoder is a dense layer followed by a tanh activation function.\n",
    "\n",
    "2. **Latent Space**:\n",
    "    - The compressed representation of the input data.\n",
    "\n",
    "3. **Decoder**:\n",
    "    - The decoder reconstructs the data from the latent space.\n",
    "    - Each layer in the decoder is a dense layer followed by a tanh activation function.\n",
    "    - The final layer outputs the reconstructed data.\n",
    "\n",
    "## Step 3: Create a Train State\n",
    "\n",
    "To train the neural network, we need to manage the model parameters and the optimizer state. This step involves creating a training state that includes these components.\n",
    "\n",
    "### Concept:\n",
    "We initialize the model parameters and set up the optimizer, which will update the model parameters during training to minimize the loss function.\n",
    "\n",
    "Learn more about [Optimization in Machine Learning on Wikipedia](https://en.wikipedia.org/wiki/Optimization_(mathematics))."
   ]
  },
  {
   "cell_type": "code",
   "execution_count": 4,
   "metadata": {
    "id": "hufJKPs0ii5g",
    "tags": []
   },
   "outputs": [],
   "source": [
    "def create_train_state(rng, model, learning_rate, input_shape):\n",
    "    params = model.init(rng, jnp.ones(input_shape))\n",
    "    tx = optax.adam(learning_rate)\n",
    "    opt_state = tx.init(params)\n",
    "    return params, opt_state, tx"
   ]
  },
  {
   "cell_type": "markdown",
   "metadata": {
    "id": "OBm49BUBiit-"
   },
   "source": [
    "### Explanation:\n",
    "1. **Model Initialization**:\n",
    "    - We initialize the model parameters using a random key (`rng`) and a dummy input.\n",
    "\n",
    "2. **Optimizer**:\n",
    "    - We use the Adam optimizer with a specified learning rate.\n",
    "    - The optimizer state is initialized using the model parameters.\n",
    "\n",
    "## Step 4: Define the Loss Function and Update Step\n",
    "\n",
    "To train the autoencoder, we need a loss function that measures the difference between the original and reconstructed data. Additionally, we define an update step to adjust the model parameters based on this loss.\n",
    "\n",
    "### Concept:\n",
    "The loss function helps us quantify how well the autoencoder is performing, and the update step involves using gradient descent to minimize this loss.\n",
    "\n",
    "Learn more about [Loss Functions on Wikipedia](https://en.wikipedia.org/wiki/Loss_function)."
   ]
  },
  {
   "cell_type": "code",
   "execution_count": 5,
   "metadata": {
    "id": "kjgxtV_IiifW",
    "tags": []
   },
   "outputs": [],
   "source": [
    "def compute_loss(params, rng, batch):\n",
    "    preds, _ = model.apply(params, rng, batch)\n",
    "    loss = jnp.mean((preds - batch) ** 2)\n",
    "    return loss\n",
    "\n",
    "@jax.jit\n",
    "def update(params, opt_state, rng, batch):\n",
    "    rng, new_rng = random.split(rng)\n",
    "    loss, grads = jax.value_and_grad(compute_loss)(params, rng, batch)\n",
    "    updates, opt_state = tx.update(grads, opt_state)\n",
    "    params = optax.apply_updates(params, updates)\n",
    "    return params, opt_state, loss, new_rng"
   ]
  },
  {
   "cell_type": "markdown",
   "metadata": {
    "id": "QrBpPD7gkGow"
   },
   "source": [
    "### Explanation:\n",
    "1. **Loss Function**:\n",
    "    - The `compute_loss` function calculates the mean squared error between the predicted and actual data.\n",
    "\n",
    "2. **Update Step**:\n",
    "    - The `update` function calculates the gradients of the loss with respect to the model parameters.\n",
    "    - The optimizer updates the model parameters using the gradients.\n",
    "\n",
    "## Step 5: Prepare the Data\n",
    "\n",
    "We will use the Digits dataset from scikit-learn for training the autoencoder. The data is scaled to have zero mean and unit variance.\n",
    "\n",
    "### Concept:\n",
    "Data preprocessing is crucial for machine learning as it ensures that the data is in a suitable format and scale for the model to learn effectively.\n",
    "\n",
    "Learn more about the [Digits Dataset on Wikipedia](https://en.wikipedia.org/wiki/Optical_character_recognition)."
   ]
  },
  {
   "cell_type": "code",
   "execution_count": 6,
   "metadata": {
    "id": "vtambMDIkFEY",
    "tags": []
   },
   "outputs": [],
   "source": [
    "# Load and scale the data\n",
    "digits = load_digits()\n",
    "data = digits.data\n",
    "\n",
    "# Split the data into training and testing sets\n",
    "train_data, test_data = train_test_split(data, test_size=0.2, random_state=42)"
   ]
  },
  {
   "cell_type": "markdown",
   "metadata": {
    "id": "DJfGaPw3kFbo",
    "tags": []
   },
   "source": [
    "### Explanation:\n",
    "1. **Loading the Data**:\n",
    "    - We load the Digits dataset using scikit-learn.\n",
    "\n",
    "2. **Splitting the Data**:\n",
    "    - We split the data into training and testing sets.\n",
    "    \n",
    "## Visualize the data"
   ]
  },
  {
   "cell_type": "code",
   "execution_count": 7,
   "metadata": {
    "tags": []
   },
   "outputs": [
    {
     "data": {
      "image/png": "[encoded data removed]",
      "text/plain": [
       "<Figure size 1000x300 with 4 Axes>"
      ]
     },
     "metadata": {},
     "output_type": "display_data"
    }
   ],
   "source": [
    "_, axes = plt.subplots(nrows=1, ncols=4, figsize=(10, 3))\n",
    "for ax, image, label in zip(axes, digits.images, digits.target):\n",
    "    ax.set_axis_off()\n",
    "    ax.imshow(image,\n",
    "              cmap=plt.cm.gray_r,\n",
    "              interpolation=\"nearest\",\n",
    "              vmin=0, vmax=16)\n",
    "    ax.set_title(\"Training: %i\" % label)"
   ]
  },
  {
   "cell_type": "markdown",
   "metadata": {
    "id": "DJfGaPw3kFbo"
   },
   "source": [
    "This data is the input into the autoencoder and will be compared to the output.\n",
    "\n",
    "## Step 6: Train the Autoencoder\n",
    "\n",
    "We will train the autoencoder using the training data and evaluate it using the test data.\n",
    "\n",
    "### Concept:\n",
    "Training involves feeding the data through the autoencoder, computing the loss, and updating the model parameters to minimize this loss. We also evaluate the model on test data to monitor its performance.\n",
    "\n",
    "Learn more about [Backpropagation on Wikipedia](https://en.wikipedia.org/wiki/Backpropagation)."
   ]
  },
  {
   "cell_type": "code",
   "execution_count": 8,
   "metadata": {
    "colab": {
     "base_uri": "https://localhost:8080/",
     "height": 49,
     "referenced_widgets": [
      "4cb088264cf848d2bcf42954fc05daf4",
      "2ac335a141634b44b6cb2af85164f128",
      "4966aefc5f884bb1aaab45cf5998bae8",
      "4dd0d9e7649a46f3977c32d5f05485cf",
      "fd2e5ff7f2d64c79ad8cbba4a5a822df",
      "05dcc662fad945e4a72d97c4cf8c1d62",
      "76f0f21939cb48f9bbd9cab4b16af472",
      "3397244638874df2a52764986e648812",
      "1378a29fe2754c08a51352879fab0218",
      "f149d037d80042309aaaa8c91d99099c",
      "d05501e8ba6741f6a12696a250d6598e"
     ]
    },
    "id": "1j0WMw71kSA4",
    "outputId": "695e2e30-78b0-414d-f0a0-4840b012a64b",
    "tags": []
   },
   "outputs": [
    {
     "data": {
      "application/vnd.jupyter.widget-view+json": {
       "model_id": "f3b0cd00f54d4715a77a5544b171b819",
       "version_major": 2,
       "version_minor": 0
      },
      "text/plain": [
       "  0%|          | 0/1000 [00:00<?, ?it/s]"
      ]
     },
     "metadata": {},
     "output_type": "display_data"
    }
   ],
   "source": [
    "# Initialize model and training state\n",
    "rng = random.PRNGKey(0)\n",
    "model = hk.transform(lambda x: Autoencoder([128, 64, 64, 64], [64, 64, 64, 128, data.shape[1]])(x))\n",
    "params, opt_state, tx = create_train_state(rng, model, learning_rate=0.001, input_shape=(data.shape[1],))\n",
    "\n",
    "# Training loop\n",
    "num_epochs = 1000\n",
    "batch_size = 32\n",
    "train_losses = []\n",
    "test_losses = []\n",
    "\n",
    "for epoch in tqdm(range(num_epochs)):\n",
    "    for i in range(0, len(train_data), batch_size):\n",
    "        batch = train_data[i:i + batch_size]\n",
    "        params, opt_state, train_loss, rng = update(params, opt_state, rng, batch)\n",
    "\n",
    "    rng, new_rng = random.split(rng)\n",
    "    test_loss = compute_loss(params, new_rng, test_data)\n",
    "    train_losses.append(train_loss)\n",
    "    test_losses.append(test_loss)"
   ]
  },
  {
   "cell_type": "markdown",
   "metadata": {
    "id": "smktgI-AkVHX"
   },
   "source": [
    "### Explanation:\n",
    "1. **Initialize Model and Training State**:\n",
    "    - We create a random key `rng` and initialize the autoencoder model with specified encoder and decoder layers.  Often autoencoders perform better with more layers.\n",
    "    - We create the initial training state using the `create_train_state` function.\n",
    "\n",
    "2. **Training Loop**:\n",
    "    - We specify the number of epochs (`num_epochs`) and batch size (`batch_size`).\n",
    "    - We initialize lists to store the training and validation losses.\n",
    "\n",
    "3. **Epoch Loop**:\n",
    "    - We use `tqdm` to create a progress bar for the training loop.\n",
    "    - For each epoch, we iterate over the training data in batches, updating the model parameters using the `update` function.\n",
    "    - After processing all batches in an epoch, we compute the validation loss using `compute_loss` and store the losses.\n",
    "\n",
    "## Step 7: Plot the Training and Validation Losses\n",
    "\n",
    "After training the autoencoder, we can visualize the training and validation losses over epochs to understand how well the model is learning.\n",
    "\n",
    "### Concept:\n",
    "Plotting the losses helps us monitor the training process and detect issues like overfitting, where the model performs well on training data but poorly on test data.\n",
    "\n",
    "Learn more about [Loss Functions and Training on Wikipedia](https://en.wikipedia.org/wiki/Loss_function)."
   ]
  },
  {
   "cell_type": "code",
   "execution_count": 9,
   "metadata": {
    "colab": {
     "base_uri": "https://localhost:8080/",
     "height": 487
    },
    "id": "yctjZVvikZ5n",
    "outputId": "efea1e6b-35d1-44f2-82fa-eaefbef81ad3",
    "tags": []
   },
   "outputs": [
    {
     "data": {
      "image/png": "[encoded data removed]",
      "text/plain": [
       "<Figure size 1000x500 with 1 Axes>"
      ]
     },
     "metadata": {},
     "output_type": "display_data"
    }
   ],
   "source": [
    "plt.figure(figsize=(10, 5))\n",
    "plt.plot(train_losses, label='Train Loss')\n",
    "plt.plot(test_losses, label='Test Loss')\n",
    "plt.xlabel('Epochs')\n",
    "plt.ylabel('Loss')\n",
    "plt.legend()\n",
    "plt.title('Training and Validation Losses')\n",
    "#plt.yscale('log')\n",
    "plt.show()"
   ]
  },
  {
   "cell_type": "markdown",
   "metadata": {
    "id": "Uw798314iiRf"
   },
   "source": [
    "### Explanation:\n",
    "1. **Plotting**:\n",
    "    - We use Matplotlib to create a plot of the training and validation losses over epochs.\n",
    "    - We label the x-axis as 'Epochs' and the y-axis as 'Loss'.\n",
    "    - We add a legend to distinguish between training and validation losses.\n",
    "    - We set the title of the plot to 'Training and Validation Losses'.\n",
    "    - Finally, we displayed the plot.\n",
    "\n",
    "### Question:\n",
    "\n",
    "Why does the training loss improve whereas the test loss does not?  What does this indicate about the number of epochs that you are training or the complexity of your network?  Please fix.\n",
    "    \n",
    "## Step 8: Check the prediction\n",
    "\n",
    "We can compare the image input and output.\n",
    "\n",
    "### Concept:\n",
    "If the network has learned what a number looks like, then the input and outputs should look similar.\n",
    "\n",
    "Learn more about [XX on Wikipedia](https://en.wikipedia.org/wiki/XX)."
   ]
  },
  {
   "cell_type": "code",
   "execution_count": 10,
   "metadata": {
    "tags": []
   },
   "outputs": [
    {
     "data": {
      "image/png": "[encoded data removed]",
      "text/plain": [
       "<Figure size 1000x300 with 8 Axes>"
      ]
     },
     "metadata": {},
     "output_type": "display_data"
    }
   ],
   "source": [
    "_, axes = plt.subplots(nrows=2, ncols=4, figsize=(10, 3))\n",
    "predicted_data, _ = model.apply(params, rng, test_data)\n",
    "for i in range(4):\n",
    "    axes[0][i].set_axis_off()\n",
    "    axes[0][i].imshow(test_data[i].reshape(8, 8),\n",
    "                      cmap=plt.cm.gray_r, interpolation=\"nearest\")\n",
    "    \n",
    "    axes[1][i].set_axis_off()\n",
    "    axes[1][i].imshow(predicted_data[i].reshape(8, 8),\n",
    "                      cmap=plt.cm.gray_r, interpolation=\"nearest\")\n",
    "axes[0][0].set_title('Input')\n",
    "_= axes[1][0].set_title('Output')"
   ]
  },
  {
   "cell_type": "markdown",
   "metadata": {
    "tags": []
   },
   "source": [
    "### Explanation:\n",
    " 1. The input and resulting output look somewhat similar.\n",
    "\n",
    "### Question:\n",
    "\n",
    " - How can you quantify this difference?  Have we already done this?  If so, how? \n",
    "    \n",
    "## Step 9: Anomaly detection\n",
    "\n",
    "When the autoencoder fails to accurately reconstruct a given input, it signifies a deviation from the patterns learned during training. This discrepancy can be quantified by the reconstruction error, which measures the difference between the input and its reconstruction. \n",
    "\n",
    "### Concept:\n",
    "In particle physics, a high reconstruction error suggests that the event does not conform to the known background and might be indicative of new physics. By setting a threshold on the reconstruction error, physicists can flag potential anomalies for further investigation, thus aiding in the discovery of rare and novel events in particle collision data.\n",
    "\n",
    "Learn more about [Anomaly Detection on Wikipedia](https://en.wikipedia.org/wiki/Anomaly_detection)."
   ]
  },
  {
   "cell_type": "code",
   "execution_count": 189,
   "metadata": {
    "tags": []
   },
   "outputs": [],
   "source": []
  },
  {
   "cell_type": "code",
   "execution_count": 190,
   "metadata": {
    "tags": []
   },
   "outputs": [
    {
     "data": {
      "image/png": "[encoded data removed]",
      "text/plain": [
       "<Figure size 1000x300 with 8 Axes>"
      ]
     },
     "metadata": {},
     "output_type": "display_data"
    }
   ],
   "source": [
    "# Corrupted data with anomalies\n",
    "bad_data = test_data.copy()\n",
    "bad_data[0] = jax.random.randint(rng, shape=(64,), minval=0, maxval=16)\n",
    "bad_data[1] = bad_data[1].reshape(8, 8).T.reshape(64)\n",
    "bad_data[2] = bad_data[2].reshape(8, 8).T.reshape(64)\n",
    "bad_data[3] = 16 * jnp.ones(64)\n",
    "\n",
    "# Plotting like before\n",
    "_, axes = plt.subplots(nrows=2, ncols=4, figsize=(10, 3))\n",
    "predicted_bad_data, _ = model.apply(params, rng, bad_data)\n",
    "for i in range(4):\n",
    "    axes[0][i].set_axis_off()\n",
    "    axes[0][i].imshow(bad_data[i].reshape(8, 8),\n",
    "                      cmap=plt.cm.gray_r, interpolation=\"nearest\")\n",
    "    \n",
    "    axes[1][i].set_axis_off()\n",
    "    axes[1][i].imshow(predicted_bad_data[i].reshape(8, 8),\n",
    "                      cmap=plt.cm.gray_r, interpolation=\"nearest\")\n",
    "axes[0][0].set_title('Input')\n",
    "_= axes[1][0].set_title('Output')\n",
    "\n",
    "# Print the loss for the anomalous data\n",
    "print(f'The loss is: {compute_loss(params, new_rng, bad_data)}')"
   ]
  },
  {
   "cell_type": "markdown",
   "metadata": {},
   "source": [
    "### Explanation:\n",
    " 1. *Creating anomalies:*  We create a dataset `bad_data` consisting of corrupted data.\n",
    " 2. *Plotting:* We see that the neural network is unable to make accurate predictions with this data, indicating that it has not seen similar data before.\n",
    " 3. *Compute loss for anomalous data:* We compute the loss for the anomalous data, which is a high value indiciating anomaly.\n",
    "\n",
    "### Question:\n",
    "\n",
    " - How does this loss compare to the loss that you expect from the training or test datasets?  Please add a horizontal line to the loss v.s. epoch plot above with the loss we just calculated.\n",
    " - What threshold would you set for a loss function to be anomalous?  How often does 'good' data fail this criterion?\n",
    " \n",
    "### Exercise:\n",
    "\n",
    " - (Hard) Adjust the code above to use the H->WW example that we used in the other tutorial.  You can use the following hint:"
   ]
  },
  {
   "cell_type": "code",
   "execution_count": null,
   "metadata": {
    "tags": []
   },
   "outputs": [],
   "source": [
    "#from extra_functions import load_training_file\n",
    "#all_data = load_training_file()\n",
    "#df = all_data.loc[:, (\"met_et\",\"met_phi\",\"lep_pt_0\",\"lep_pt_1\",'lep_phi_0', 'lep_phi_1')]\n",
    "#del all_data['index']\n",
    "#del all_data['eventNumber']\n",
    "#del all_data['mcWeight']\n",
    "#del all_data['channelNumber']\n",
    "#all_data.head()"
   ]
  },
  {
   "cell_type": "markdown",
   "metadata": {},
   "source": [
    "## End"
   ]
  }
 ],
 "metadata": {
  "colab": {
   "provenance": []
  },
  "kernelspec": {
   "display_name": "Python 3 (ipykernel)",
   "language": "python",
   "name": "python3"
  },
  "language_info": {
   "codemirror_mode": {
    "name": "ipython",
    "version": 3
   },
   "file_extension": ".py",
   "mimetype": "text/x-python",
   "name": "python",
   "nbconvert_exporter": "python",
   "pygments_lexer": "ipython3",
   "version": "3.10.12"
  },
  "widgets": {
   "application/vnd.jupyter.widget-state+json": {
    "05dcc662fad945e4a72d97c4cf8c1d62": {
     "model_module": "@jupyter-widgets/base",
     "model_module_version": "1.2.0",
     "model_name": "LayoutModel",
     "state": {
      "_model_module": "@jupyter-widgets/base",
      "_model_module_version": "1.2.0",
      "_model_name": "LayoutModel",
      "_view_count": null,
      "_view_module": "@jupyter-widgets/base",
      "_view_module_version": "1.2.0",
      "_view_name": "LayoutView",
      "align_content": null,
      "align_items": null,
      "align_self": null,
      "border": null,
      "bottom": null,
      "display": null,
      "flex": null,
      "flex_flow": null,
      "grid_area": null,
      "grid_auto_columns": null,
      "grid_auto_flow": null,
      "grid_auto_rows": null,
      "grid_column": null,
      "grid_gap": null,
      "grid_row": null,
      "grid_template_areas": null,
      "grid_template_columns": null,
      "grid_template_rows": null,
      "height": null,
      "justify_content": null,
      "justify_items": null,
      "left": null,
      "margin": null,
      "max_height": null,
      "max_width": null,
      "min_height": null,
      "min_width": null,
      "object_fit": null,
      "object_position": null,
      "order": null,
      "overflow": null,
      "overflow_x": null,
      "overflow_y": null,
      "padding": null,
      "right": null,
      "top": null,
      "visibility": null,
      "width": null
     }
    },
    "1378a29fe2754c08a51352879fab0218": {
     "model_module": "@jupyter-widgets/controls",
     "model_module_version": "1.5.0",
     "model_name": "ProgressStyleModel",
     "state": {
      "_model_module": "@jupyter-widgets/controls",
      "_model_module_version": "1.5.0",
      "_model_name": "ProgressStyleModel",
      "_view_count": null,
      "_view_module": "@jupyter-widgets/base",
      "_view_module_version": "1.2.0",
      "_view_name": "StyleView",
      "bar_color": null,
      "description_width": ""
     }
    },
    "2ac335a141634b44b6cb2af85164f128": {
     "model_module": "@jupyter-widgets/controls",
     "model_module_version": "1.5.0",
     "model_name": "HTMLModel",
     "state": {
      "_dom_classes": [],
      "_model_module": "@jupyter-widgets/controls",
      "_model_module_version": "1.5.0",
      "_model_name": "HTMLModel",
      "_view_count": null,
      "_view_module": "@jupyter-widgets/controls",
      "_view_module_version": "1.5.0",
      "_view_name": "HTMLView",
      "description": "",
      "description_tooltip": null,
      "layout": "IPY_MODEL_05dcc662fad945e4a72d97c4cf8c1d62",
      "placeholder": "​",
      "style": "IPY_MODEL_76f0f21939cb48f9bbd9cab4b16af472",
      "value": "100%"
     }
    },
    "3397244638874df2a52764986e648812": {
     "model_module": "@jupyter-widgets/base",
     "model_module_version": "1.2.0",
     "model_name": "LayoutModel",
     "state": {
      "_model_module": "@jupyter-widgets/base",
      "_model_module_version": "1.2.0",
      "_model_name": "LayoutModel",
      "_view_count": null,
      "_view_module": "@jupyter-widgets/base",
      "_view_module_version": "1.2.0",
      "_view_name": "LayoutView",
      "align_content": null,
      "align_items": null,
      "align_self": null,
      "border": null,
      "bottom": null,
      "display": null,
      "flex": null,
      "flex_flow": null,
      "grid_area": null,
      "grid_auto_columns": null,
      "grid_auto_flow": null,
      "grid_auto_rows": null,
      "grid_column": null,
      "grid_gap": null,
      "grid_row": null,
      "grid_template_areas": null,
      "grid_template_columns": null,
      "grid_template_rows": null,
      "height": null,
      "justify_content": null,
      "justify_items": null,
      "left": null,
      "margin": null,
      "max_height": null,
      "max_width": null,
      "min_height": null,
      "min_width": null,
      "object_fit": null,
      "object_position": null,
      "order": null,
      "overflow": null,
      "overflow_x": null,
      "overflow_y": null,
      "padding": null,
      "right": null,
      "top": null,
      "visibility": null,
      "width": null
     }
    },
    "4966aefc5f884bb1aaab45cf5998bae8": {
     "model_module": "@jupyter-widgets/controls",
     "model_module_version": "1.5.0",
     "model_name": "FloatProgressModel",
     "state": {
      "_dom_classes": [],
      "_model_module": "@jupyter-widgets/controls",
      "_model_module_version": "1.5.0",
      "_model_name": "FloatProgressModel",
      "_view_count": null,
      "_view_module": "@jupyter-widgets/controls",
      "_view_module_version": "1.5.0",
      "_view_name": "ProgressView",
      "bar_style": "success",
      "description": "",
      "description_tooltip": null,
      "layout": "IPY_MODEL_3397244638874df2a52764986e648812",
      "max": 1000,
      "min": 0,
      "orientation": "horizontal",
      "style": "IPY_MODEL_1378a29fe2754c08a51352879fab0218",
      "value": 1000
     }
    },
    "4cb088264cf848d2bcf42954fc05daf4": {
     "model_module": "@jupyter-widgets/controls",
     "model_module_version": "1.5.0",
     "model_name": "HBoxModel",
     "state": {
      "_dom_classes": [],
      "_model_module": "@jupyter-widgets/controls",
      "_model_module_version": "1.5.0",
      "_model_name": "HBoxModel",
      "_view_count": null,
      "_view_module": "@jupyter-widgets/controls",
      "_view_module_version": "1.5.0",
      "_view_name": "HBoxView",
      "box_style": "",
      "children": [
       "IPY_MODEL_2ac335a141634b44b6cb2af85164f128",
       "IPY_MODEL_4966aefc5f884bb1aaab45cf5998bae8",
       "IPY_MODEL_4dd0d9e7649a46f3977c32d5f05485cf"
      ],
      "layout": "IPY_MODEL_fd2e5ff7f2d64c79ad8cbba4a5a822df"
     }
    },
    "4dd0d9e7649a46f3977c32d5f05485cf": {
     "model_module": "@jupyter-widgets/controls",
     "model_module_version": "1.5.0",
     "model_name": "HTMLModel",
     "state": {
      "_dom_classes": [],
      "_model_module": "@jupyter-widgets/controls",
      "_model_module_version": "1.5.0",
      "_model_name": "HTMLModel",
      "_view_count": null,
      "_view_module": "@jupyter-widgets/controls",
      "_view_module_version": "1.5.0",
      "_view_name": "HTMLView",
      "description": "",
      "description_tooltip": null,
      "layout": "IPY_MODEL_f149d037d80042309aaaa8c91d99099c",
      "placeholder": "​",
      "style": "IPY_MODEL_d05501e8ba6741f6a12696a250d6598e",
      "value": " 1000/1000 [00:29&lt;00:00, 23.96it/s]"
     }
    },
    "76f0f21939cb48f9bbd9cab4b16af472": {
     "model_module": "@jupyter-widgets/controls",
     "model_module_version": "1.5.0",
     "model_name": "DescriptionStyleModel",
     "state": {
      "_model_module": "@jupyter-widgets/controls",
      "_model_module_version": "1.5.0",
      "_model_name": "DescriptionStyleModel",
      "_view_count": null,
      "_view_module": "@jupyter-widgets/base",
      "_view_module_version": "1.2.0",
      "_view_name": "StyleView",
      "description_width": ""
     }
    },
    "d05501e8ba6741f6a12696a250d6598e": {
     "model_module": "@jupyter-widgets/controls",
     "model_module_version": "1.5.0",
     "model_name": "DescriptionStyleModel",
     "state": {
      "_model_module": "@jupyter-widgets/controls",
      "_model_module_version": "1.5.0",
      "_model_name": "DescriptionStyleModel",
      "_view_count": null,
      "_view_module": "@jupyter-widgets/base",
      "_view_module_version": "1.2.0",
      "_view_name": "StyleView",
      "description_width": ""
     }
    },
    "f149d037d80042309aaaa8c91d99099c": {
     "model_module": "@jupyter-widgets/base",
     "model_module_version": "1.2.0",
     "model_name": "LayoutModel",
     "state": {
      "_model_module": "@jupyter-widgets/base",
      "_model_module_version": "1.2.0",
      "_model_name": "LayoutModel",
      "_view_count": null,
      "_view_module": "@jupyter-widgets/base",
      "_view_module_version": "1.2.0",
      "_view_name": "LayoutView",
      "align_content": null,
      "align_items": null,
      "align_self": null,
      "border": null,
      "bottom": null,
      "display": null,
      "flex": null,
      "flex_flow": null,
      "grid_area": null,
      "grid_auto_columns": null,
      "grid_auto_flow": null,
      "grid_auto_rows": null,
      "grid_column": null,
      "grid_gap": null,
      "grid_row": null,
      "grid_template_areas": null,
      "grid_template_columns": null,
      "grid_template_rows": null,
      "height": null,
      "justify_content": null,
      "justify_items": null,
      "left": null,
      "margin": null,
      "max_height": null,
      "max_width": null,
      "min_height": null,
      "min_width": null,
      "object_fit": null,
      "object_position": null,
      "order": null,
      "overflow": null,
      "overflow_x": null,
      "overflow_y": null,
      "padding": null,
      "right": null,
      "top": null,
      "visibility": null,
      "width": null
     }
    },
    "fd2e5ff7f2d64c79ad8cbba4a5a822df": {
     "model_module": "@jupyter-widgets/base",
     "model_module_version": "1.2.0",
     "model_name": "LayoutModel",
     "state": {
      "_model_module": "@jupyter-widgets/base",
      "_model_module_version": "1.2.0",
      "_model_name": "LayoutModel",
      "_view_count": null,
      "_view_module": "@jupyter-widgets/base",
      "_view_module_version": "1.2.0",
      "_view_name": "LayoutView",
      "align_content": null,
      "align_items": null,
      "align_self": null,
      "border": null,
      "bottom": null,
      "display": null,
      "flex": null,
      "flex_flow": null,
      "grid_area": null,
      "grid_auto_columns": null,
      "grid_auto_flow": null,
      "grid_auto_rows": null,
      "grid_column": null,
      "grid_gap": null,
      "grid_row": null,
      "grid_template_areas": null,
      "grid_template_columns": null,
      "grid_template_rows": null,
      "height": null,
      "justify_content": null,
      "justify_items": null,
      "left": null,
      "margin": null,
      "max_height": null,
      "max_width": null,
      "min_height": null,
      "min_width": null,
      "object_fit": null,
      "object_position": null,
      "order": null,
      "overflow": null,
      "overflow_x": null,
      "overflow_y": null,
      "padding": null,
      "right": null,
      "top": null,
      "visibility": null,
      "width": null
     }
    }
   }
  }
 },
 "nbformat": 4,
 "nbformat_minor": 4
}
